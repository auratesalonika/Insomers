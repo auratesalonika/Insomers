{
  "nbformat": 4,
  "nbformat_minor": 0,
  "metadata": {
    "colab": {
      "provenance": []
    },
    "kernelspec": {
      "name": "python3",
      "display_name": "Python 3"
    },
    "language_info": {
      "name": "python"
    }
  },
  "cells": [
    {
      "cell_type": "code",
      "execution_count": 134,
      "metadata": {
        "id": "uzF4CqEi9ZyI"
      },
      "outputs": [],
      "source": [
        "import pandas as pd\n",
        "import numpy as np\n",
        "import tensorflow as tf\n",
        "from sklearn.model_selection import train_test_split\n",
        "from sklearn.preprocessing import StandardScaler, LabelEncoder\n",
        "from sklearn.metrics import classification_report\n",
        "from imblearn.over_sampling import SMOTE"
      ]
    },
    {
      "cell_type": "markdown",
      "source": [
        "#**Data Collection**"
      ],
      "metadata": {
        "id": "Unc3jwOU9gQq"
      }
    },
    {
      "cell_type": "code",
      "source": [
        "# Membaca dataset\n",
        "file_path = 'Sleep_health_and_lifestyle_dataset.csv'\n",
        "data = pd.read_csv(file_path)"
      ],
      "metadata": {
        "id": "GP02KsM09kPJ"
      },
      "execution_count": 135,
      "outputs": []
    },
    {
      "cell_type": "code",
      "source": [
        "# Menampilkan nama kolom dan beberapa baris pertama\n",
        "print(\"Nama Kolom:\")\n",
        "print(data.columns)"
      ],
      "metadata": {
        "colab": {
          "base_uri": "https://localhost:8080/"
        },
        "id": "MnrI7toABMj2",
        "outputId": "4906fa4f-197f-46f5-b362-611419c34c93"
      },
      "execution_count": 136,
      "outputs": [
        {
          "output_type": "stream",
          "name": "stdout",
          "text": [
            "Nama Kolom:\n",
            "Index(['Person ID', 'Gender', 'Age', 'Occupation', 'Sleep Duration',\n",
            "       'Quality of Sleep', 'Physical Activity Level', 'Stress Level',\n",
            "       'BMI Category', 'Blood Pressure', 'Heart Rate', 'Daily Steps',\n",
            "       'Sleep Disorder'],\n",
            "      dtype='object')\n"
          ]
        }
      ]
    },
    {
      "cell_type": "code",
      "source": [
        "# Menampilkan beberapa baris pertama\n",
        "print(\"Preview Dataset:\")\n",
        "print(data.head())"
      ],
      "metadata": {
        "colab": {
          "base_uri": "https://localhost:8080/"
        },
        "id": "P_1BEX3j_2gg",
        "outputId": "746832f9-511b-49c3-8dbc-8cf4c03b73ed"
      },
      "execution_count": 137,
      "outputs": [
        {
          "output_type": "stream",
          "name": "stdout",
          "text": [
            "Preview Dataset:\n",
            "   Person ID Gender  Age            Occupation  Sleep Duration  \\\n",
            "0          1   Male   27     Software Engineer             6.1   \n",
            "1          2   Male   28                Doctor             6.2   \n",
            "2          3   Male   28                Doctor             6.2   \n",
            "3          4   Male   28  Sales Representative             5.9   \n",
            "4          5   Male   28  Sales Representative             5.9   \n",
            "\n",
            "   Quality of Sleep  Physical Activity Level  Stress Level BMI Category  \\\n",
            "0                 6                       42             6   Overweight   \n",
            "1                 6                       60             8       Normal   \n",
            "2                 6                       60             8       Normal   \n",
            "3                 4                       30             8        Obese   \n",
            "4                 4                       30             8        Obese   \n",
            "\n",
            "  Blood Pressure  Heart Rate  Daily Steps Sleep Disorder  \n",
            "0         126/83          77         4200            NaN  \n",
            "1         125/80          75        10000            NaN  \n",
            "2         125/80          75        10000            NaN  \n",
            "3         140/90          85         3000    Sleep Apnea  \n",
            "4         140/90          85         3000    Sleep Apnea  \n"
          ]
        }
      ]
    },
    {
      "cell_type": "code",
      "source": [
        "# Menampilkan informasi tentang kolom dataset\n",
        "print(\"\\nInformasi Dataset:\")\n",
        "print(data.info())"
      ],
      "metadata": {
        "colab": {
          "base_uri": "https://localhost:8080/"
        },
        "id": "i9iak-NF_6b5",
        "outputId": "d5d3a90f-c5b6-4407-f5c0-fb4319ae097b"
      },
      "execution_count": 138,
      "outputs": [
        {
          "output_type": "stream",
          "name": "stdout",
          "text": [
            "\n",
            "Informasi Dataset:\n",
            "<class 'pandas.core.frame.DataFrame'>\n",
            "RangeIndex: 374 entries, 0 to 373\n",
            "Data columns (total 13 columns):\n",
            " #   Column                   Non-Null Count  Dtype  \n",
            "---  ------                   --------------  -----  \n",
            " 0   Person ID                374 non-null    int64  \n",
            " 1   Gender                   374 non-null    object \n",
            " 2   Age                      374 non-null    int64  \n",
            " 3   Occupation               374 non-null    object \n",
            " 4   Sleep Duration           374 non-null    float64\n",
            " 5   Quality of Sleep         374 non-null    int64  \n",
            " 6   Physical Activity Level  374 non-null    int64  \n",
            " 7   Stress Level             374 non-null    int64  \n",
            " 8   BMI Category             374 non-null    object \n",
            " 9   Blood Pressure           374 non-null    object \n",
            " 10  Heart Rate               374 non-null    int64  \n",
            " 11  Daily Steps              374 non-null    int64  \n",
            " 12  Sleep Disorder           155 non-null    object \n",
            "dtypes: float64(1), int64(7), object(5)\n",
            "memory usage: 38.1+ KB\n",
            "None\n"
          ]
        }
      ]
    },
    {
      "cell_type": "code",
      "source": [
        "# Menampilkan statistik deskriptif\n",
        "print(\"\\nStatistik Deskriptif:\")\n",
        "print(data.describe())"
      ],
      "metadata": {
        "colab": {
          "base_uri": "https://localhost:8080/"
        },
        "id": "W4zyKZQ5_9hS",
        "outputId": "10dbb9c1-a630-4ca3-cce5-0e36efa0c7b4"
      },
      "execution_count": 139,
      "outputs": [
        {
          "output_type": "stream",
          "name": "stdout",
          "text": [
            "\n",
            "Statistik Deskriptif:\n",
            "        Person ID         Age  Sleep Duration  Quality of Sleep  \\\n",
            "count  374.000000  374.000000      374.000000        374.000000   \n",
            "mean   187.500000   42.184492        7.132086          7.312834   \n",
            "std    108.108742    8.673133        0.795657          1.196956   \n",
            "min      1.000000   27.000000        5.800000          4.000000   \n",
            "25%     94.250000   35.250000        6.400000          6.000000   \n",
            "50%    187.500000   43.000000        7.200000          7.000000   \n",
            "75%    280.750000   50.000000        7.800000          8.000000   \n",
            "max    374.000000   59.000000        8.500000          9.000000   \n",
            "\n",
            "       Physical Activity Level  Stress Level  Heart Rate   Daily Steps  \n",
            "count               374.000000    374.000000  374.000000    374.000000  \n",
            "mean                 59.171123      5.385027   70.165775   6816.844920  \n",
            "std                  20.830804      1.774526    4.135676   1617.915679  \n",
            "min                  30.000000      3.000000   65.000000   3000.000000  \n",
            "25%                  45.000000      4.000000   68.000000   5600.000000  \n",
            "50%                  60.000000      5.000000   70.000000   7000.000000  \n",
            "75%                  75.000000      7.000000   72.000000   8000.000000  \n",
            "max                  90.000000      8.000000   86.000000  10000.000000  \n"
          ]
        }
      ]
    },
    {
      "cell_type": "code",
      "source": [
        "# Memeriksa ukuran dataset\n",
        "print(f\"\\nUkuran Dataset: {data.shape[0]} baris, {data.shape[1]} kolom\")"
      ],
      "metadata": {
        "colab": {
          "base_uri": "https://localhost:8080/"
        },
        "id": "nCYKFwwQBTGg",
        "outputId": "9a95d0ca-d128-41ef-9b27-a8e99bafcc30"
      },
      "execution_count": 140,
      "outputs": [
        {
          "output_type": "stream",
          "name": "stdout",
          "text": [
            "\n",
            "Ukuran Dataset: 374 baris, 13 kolom\n"
          ]
        }
      ]
    },
    {
      "cell_type": "code",
      "source": [
        "# Mengecek nilai unik untuk kolom kategori\n",
        "for col in ['Gender', 'Occupation']:\n",
        "    if col in data.columns:\n",
        "        print(f\"\\nNilai Unik di Kolom '{col}':\")\n",
        "        print(data[col].unique())"
      ],
      "metadata": {
        "colab": {
          "base_uri": "https://localhost:8080/"
        },
        "id": "Hf9sXCCIBZRX",
        "outputId": "31521d53-0639-4d27-819f-20ea294e7f69"
      },
      "execution_count": 141,
      "outputs": [
        {
          "output_type": "stream",
          "name": "stdout",
          "text": [
            "\n",
            "Nilai Unik di Kolom 'Gender':\n",
            "['Male' 'Female']\n",
            "\n",
            "Nilai Unik di Kolom 'Occupation':\n",
            "['Software Engineer' 'Doctor' 'Sales Representative' 'Teacher' 'Nurse'\n",
            " 'Engineer' 'Accountant' 'Scientist' 'Lawyer' 'Salesperson' 'Manager']\n"
          ]
        }
      ]
    },
    {
      "cell_type": "markdown",
      "source": [
        "#**Data Pre-Processing**"
      ],
      "metadata": {
        "id": "PGXEuaJ496YI"
      }
    },
    {
      "cell_type": "markdown",
      "source": [
        "***Cek Nilai Kosong***"
      ],
      "metadata": {
        "id": "ET90rBm6bJjk"
      }
    },
    {
      "cell_type": "code",
      "source": [
        "missing_values = data.isnull().sum()\n",
        "print(\"\\nJumlah Nilai Kosong per Kolom Sebelum Preprocessing:\")\n",
        "print(missing_values)"
      ],
      "metadata": {
        "colab": {
          "base_uri": "https://localhost:8080/"
        },
        "id": "uWpwKVgvbqOS",
        "outputId": "ba269c55-10a1-41da-d35b-3b78c18f9f7d"
      },
      "execution_count": 142,
      "outputs": [
        {
          "output_type": "stream",
          "name": "stdout",
          "text": [
            "\n",
            "Jumlah Nilai Kosong per Kolom Sebelum Preprocessing:\n",
            "Person ID                    0\n",
            "Gender                       0\n",
            "Age                          0\n",
            "Occupation                   0\n",
            "Sleep Duration               0\n",
            "Quality of Sleep             0\n",
            "Physical Activity Level      0\n",
            "Stress Level                 0\n",
            "BMI Category                 0\n",
            "Blood Pressure               0\n",
            "Heart Rate                   0\n",
            "Daily Steps                  0\n",
            "Sleep Disorder             219\n",
            "dtype: int64\n"
          ]
        }
      ]
    },
    {
      "cell_type": "markdown",
      "source": [
        "***Cek dan Tangani Duplikat (Duplicate Rows).***"
      ],
      "metadata": {
        "id": "vyjerrmNbQvy"
      }
    },
    {
      "cell_type": "code",
      "source": [
        "# semua kolom\n",
        "duplicate_rows_all = data.duplicated().sum()\n",
        "print(f\"Jumlah Baris Duplikat (Semua Kolom): {duplicate_rows_all}\")"
      ],
      "metadata": {
        "colab": {
          "base_uri": "https://localhost:8080/"
        },
        "id": "AOP1VnNFfe0O",
        "outputId": "fe57ed15-52b4-4385-c95f-6f12a8272eaf"
      },
      "execution_count": 143,
      "outputs": [
        {
          "output_type": "stream",
          "name": "stdout",
          "text": [
            "Jumlah Baris Duplikat (Semua Kolom): 0\n"
          ]
        }
      ]
    },
    {
      "cell_type": "code",
      "source": [
        "# kolom tertentu\n",
        "duplicate_rows_subset = data[['Age', 'Gender', 'Stress Level', 'Sleep Duration', 'Quality of Sleep', 'Occupation']].duplicated().sum()\n",
        "print(f\"Jumlah Baris Duplikat (Berdasarkan Kolom Tertentu): {duplicate_rows_subset}\")"
      ],
      "metadata": {
        "colab": {
          "base_uri": "https://localhost:8080/"
        },
        "id": "psQqyZ3ReOq5",
        "outputId": "d51d5702-bc8e-4379-a4e8-1799356a9f7a"
      },
      "execution_count": 144,
      "outputs": [
        {
          "output_type": "stream",
          "name": "stdout",
          "text": [
            "Jumlah Baris Duplikat (Berdasarkan Kolom Tertentu): 265\n"
          ]
        }
      ]
    },
    {
      "cell_type": "code",
      "source": [
        "# Analisis baris duplikat\n",
        "duplicates = data[data.duplicated(subset=['Age', 'Gender', 'Stress Level', 'Sleep Duration', 'Quality of Sleep', 'Occupation'], keep=False)]\n",
        "print(f\"\\nContoh Baris Duplikat:\\n{duplicates.head()}\")"
      ],
      "metadata": {
        "colab": {
          "base_uri": "https://localhost:8080/"
        },
        "id": "-BG6ITzPgMuO",
        "outputId": "d58d4c6d-c8f0-4640-da79-711a42960046"
      },
      "execution_count": 145,
      "outputs": [
        {
          "output_type": "stream",
          "name": "stdout",
          "text": [
            "\n",
            "Contoh Baris Duplikat:\n",
            "   Person ID Gender  Age            Occupation  Sleep Duration  \\\n",
            "1          2   Male   28                Doctor             6.2   \n",
            "2          3   Male   28                Doctor             6.2   \n",
            "3          4   Male   28  Sales Representative             5.9   \n",
            "4          5   Male   28  Sales Representative             5.9   \n",
            "7          8   Male   29                Doctor             7.8   \n",
            "\n",
            "   Quality of Sleep  Physical Activity Level  Stress Level BMI Category  \\\n",
            "1                 6                       60             8       Normal   \n",
            "2                 6                       60             8       Normal   \n",
            "3                 4                       30             8        Obese   \n",
            "4                 4                       30             8        Obese   \n",
            "7                 7                       75             6       Normal   \n",
            "\n",
            "  Blood Pressure  Heart Rate  Daily Steps Sleep Disorder  \n",
            "1         125/80          75        10000            NaN  \n",
            "2         125/80          75        10000            NaN  \n",
            "3         140/90          85         3000    Sleep Apnea  \n",
            "4         140/90          85         3000    Sleep Apnea  \n",
            "7         120/80          70         8000            NaN  \n"
          ]
        }
      ]
    },
    {
      "cell_type": "code",
      "source": [
        "print(f\"Jumlah baris setelah memeriksa duplikat: {len(data)}\\n\")"
      ],
      "metadata": {
        "colab": {
          "base_uri": "https://localhost:8080/"
        },
        "id": "sQQULwtvjAiF",
        "outputId": "fa0c3a61-ba7a-46a3-8879-142aae6e9945"
      },
      "execution_count": 146,
      "outputs": [
        {
          "output_type": "stream",
          "name": "stdout",
          "text": [
            "Jumlah baris setelah memeriksa duplikat: 374\n",
            "\n"
          ]
        }
      ]
    },
    {
      "cell_type": "markdown",
      "source": [
        "***Penanganan Kelas Target (Insomnia).***"
      ],
      "metadata": {
        "id": "MreddbyjbY_N"
      }
    },
    {
      "cell_type": "code",
      "source": [
        "# Memeriksa nama kolom dalam dataset\n",
        "print(\"Kolom dalam dataset:\")\n",
        "print(data.columns)"
      ],
      "metadata": {
        "colab": {
          "base_uri": "https://localhost:8080/"
        },
        "id": "9jWqYJl5cGmp",
        "outputId": "1f6e3526-a684-4ae4-80ef-80be54b67edf"
      },
      "execution_count": 147,
      "outputs": [
        {
          "output_type": "stream",
          "name": "stdout",
          "text": [
            "Kolom dalam dataset:\n",
            "Index(['Person ID', 'Gender', 'Age', 'Occupation', 'Sleep Duration',\n",
            "       'Quality of Sleep', 'Physical Activity Level', 'Stress Level',\n",
            "       'BMI Category', 'Blood Pressure', 'Heart Rate', 'Daily Steps',\n",
            "       'Sleep Disorder'],\n",
            "      dtype='object')\n"
          ]
        }
      ]
    },
    {
      "cell_type": "code",
      "source": [
        "# Menangani jika kolom Insomnia tidak ditemukan\n",
        "if 'Insomnia' not in data.columns:\n",
        "    print(\"\\nKolom 'Insomnia' tidak ditemukan. Harap periksa nama kolom atau gunakan nama yang benar.\")\n",
        "else:\n",
        "    print(\"\\nDistribusi Kelas Target Sebelum Preprocessing:\")\n",
        "    print(data['Insomnia'].value_counts())"
      ],
      "metadata": {
        "colab": {
          "base_uri": "https://localhost:8080/"
        },
        "id": "KpAFE3v1joo_",
        "outputId": "ac58c801-89f9-4a65-dd29-607f5b078f59"
      },
      "execution_count": 148,
      "outputs": [
        {
          "output_type": "stream",
          "name": "stdout",
          "text": [
            "\n",
            "Kolom 'Insomnia' tidak ditemukan. Harap periksa nama kolom atau gunakan nama yang benar.\n"
          ]
        }
      ]
    },
    {
      "cell_type": "code",
      "source": [
        "# Menambahkan Kolom Insomnia\n",
        "# Misalnya: Sleep Quality < 3 atau Sleep Duration < 5 dianggap insomnia\n",
        "data['Insomnia'] = ((data['Quality of Sleep'] < 3) | (data['Sleep Duration'] < 5) |\n",
        "                     (data['Stress Level'] > 6)).astype(int)"
      ],
      "metadata": {
        "id": "Xgd0Cw3nj_uY"
      },
      "execution_count": 149,
      "outputs": []
    },
    {
      "cell_type": "code",
      "source": [
        "print(\"\\nPreview Dataset dengan Kolom Insomnia:\")\n",
        "print(data[['Quality of Sleep', 'Sleep Duration', 'Stress Level', 'Insomnia']].head())"
      ],
      "metadata": {
        "colab": {
          "base_uri": "https://localhost:8080/"
        },
        "id": "fjS09uhvlxs0",
        "outputId": "580a53ca-ccbc-4f05-a8c3-959553b22f68"
      },
      "execution_count": 150,
      "outputs": [
        {
          "output_type": "stream",
          "name": "stdout",
          "text": [
            "\n",
            "Preview Dataset dengan Kolom Insomnia:\n",
            "   Quality of Sleep  Sleep Duration  Stress Level  Insomnia\n",
            "0                 6             6.1             6         0\n",
            "1                 6             6.2             8         1\n",
            "2                 6             6.2             8         1\n",
            "3                 4             5.9             8         1\n",
            "4                 4             5.9             8         1\n"
          ]
        }
      ]
    },
    {
      "cell_type": "code",
      "source": [
        "# Cek distribusi kelas target setelah pembaruan kriteria\n",
        "print(\"\\nDistribusi Kelas Target Setelah Preprocessing:\")\n",
        "print(data['Insomnia'].value_counts())"
      ],
      "metadata": {
        "colab": {
          "base_uri": "https://localhost:8080/"
        },
        "id": "YgS6ar_CkLPB",
        "outputId": "a5381441-4578-4685-ce3c-cdf8c302fdfb"
      },
      "execution_count": 151,
      "outputs": [
        {
          "output_type": "stream",
          "name": "stdout",
          "text": [
            "\n",
            "Distribusi Kelas Target Setelah Preprocessing:\n",
            "Insomnia\n",
            "0    254\n",
            "1    120\n",
            "Name: count, dtype: int64\n"
          ]
        }
      ]
    },
    {
      "cell_type": "markdown",
      "source": [
        "***Pilih Fitur dan Target.***"
      ],
      "metadata": {
        "id": "SjYSJLhVbaa5"
      }
    },
    {
      "cell_type": "code",
      "source": [
        "# Pilih Fitur dan Target\n",
        "selected_features = ['Age', 'Gender', 'Stress Level', 'Sleep Duration', 'Quality of Sleep', 'Occupation']\n",
        "target_column = 'Insomnia'"
      ],
      "metadata": {
        "id": "MLxWH7XkcJxL"
      },
      "execution_count": 152,
      "outputs": []
    },
    {
      "cell_type": "code",
      "source": [
        "X = data[selected_features]\n",
        "y = data[target_column]"
      ],
      "metadata": {
        "id": "7vJ8SjXxk3Zb"
      },
      "execution_count": 153,
      "outputs": []
    },
    {
      "cell_type": "markdown",
      "source": [
        "***Encoding Kolom Kategori (Label Encoding).***"
      ],
      "metadata": {
        "id": "AZ2_SuAzbdN_"
      }
    },
    {
      "cell_type": "code",
      "source": [
        "le_gender = LabelEncoder()\n",
        "le_occupation = LabelEncoder()\n",
        "\n",
        "X['Gender'] = le_gender.fit_transform(X['Gender'])\n",
        "X['Occupation'] = le_occupation.fit_transform(X['Occupation'])"
      ],
      "metadata": {
        "colab": {
          "base_uri": "https://localhost:8080/"
        },
        "id": "Z9u-V7VBkaI3",
        "outputId": "bc173f2b-92a6-420f-9822-b6c62cab06cf"
      },
      "execution_count": 154,
      "outputs": [
        {
          "output_type": "stream",
          "name": "stderr",
          "text": [
            "<ipython-input-154-bfd129499f13>:4: SettingWithCopyWarning: \n",
            "A value is trying to be set on a copy of a slice from a DataFrame.\n",
            "Try using .loc[row_indexer,col_indexer] = value instead\n",
            "\n",
            "See the caveats in the documentation: https://pandas.pydata.org/pandas-docs/stable/user_guide/indexing.html#returning-a-view-versus-a-copy\n",
            "  X['Gender'] = le_gender.fit_transform(X['Gender'])\n",
            "<ipython-input-154-bfd129499f13>:5: SettingWithCopyWarning: \n",
            "A value is trying to be set on a copy of a slice from a DataFrame.\n",
            "Try using .loc[row_indexer,col_indexer] = value instead\n",
            "\n",
            "See the caveats in the documentation: https://pandas.pydata.org/pandas-docs/stable/user_guide/indexing.html#returning-a-view-versus-a-copy\n",
            "  X['Occupation'] = le_occupation.fit_transform(X['Occupation'])\n"
          ]
        }
      ]
    },
    {
      "cell_type": "code",
      "source": [
        "print(\"\\nFitur Setelah Encoding:\")\n",
        "print(X.head())"
      ],
      "metadata": {
        "colab": {
          "base_uri": "https://localhost:8080/"
        },
        "id": "g01N1uRnkcZG",
        "outputId": "e2e96bc7-7795-40f7-eb8e-00878a74b8b5"
      },
      "execution_count": 155,
      "outputs": [
        {
          "output_type": "stream",
          "name": "stdout",
          "text": [
            "\n",
            "Fitur Setelah Encoding:\n",
            "   Age  Gender  Stress Level  Sleep Duration  Quality of Sleep  Occupation\n",
            "0   27       1             6             6.1                 6           9\n",
            "1   28       1             8             6.2                 6           1\n",
            "2   28       1             8             6.2                 6           1\n",
            "3   28       1             8             5.9                 4           6\n",
            "4   28       1             8             5.9                 4           6\n"
          ]
        }
      ]
    },
    {
      "cell_type": "markdown",
      "source": [
        "***Normalisasi Fitur Numerik (Standardization).***"
      ],
      "metadata": {
        "id": "7FBgPB06bgfW"
      }
    },
    {
      "cell_type": "code",
      "source": [
        "# Inisialisasi StandardScaler\n",
        "scaler = StandardScaler()\n",
        "\n",
        "# Normalisasi fitur numerik\n",
        "X[['Age', 'Stress Level', 'Sleep Duration', 'Quality of Sleep']] = scaler.fit_transform(X[['Age', 'Stress Level', 'Sleep Duration', 'Quality of Sleep']])"
      ],
      "metadata": {
        "colab": {
          "base_uri": "https://localhost:8080/"
        },
        "id": "6pOh77zQkjq9",
        "outputId": "538cb608-07d6-4270-8ed7-cd4fc4bb3514"
      },
      "execution_count": 156,
      "outputs": [
        {
          "output_type": "stream",
          "name": "stderr",
          "text": [
            "<ipython-input-156-0a04129e08e9>:5: SettingWithCopyWarning: \n",
            "A value is trying to be set on a copy of a slice from a DataFrame.\n",
            "Try using .loc[row_indexer,col_indexer] = value instead\n",
            "\n",
            "See the caveats in the documentation: https://pandas.pydata.org/pandas-docs/stable/user_guide/indexing.html#returning-a-view-versus-a-copy\n",
            "  X[['Age', 'Stress Level', 'Sleep Duration', 'Quality of Sleep']] = scaler.fit_transform(X[['Age', 'Stress Level', 'Sleep Duration', 'Quality of Sleep']])\n"
          ]
        }
      ]
    },
    {
      "cell_type": "code",
      "source": [
        "print(\"\\nFitur Setelah Normalisasi:\")\n",
        "print(X.head())"
      ],
      "metadata": {
        "colab": {
          "base_uri": "https://localhost:8080/"
        },
        "id": "i-Ke2JU6kslB",
        "outputId": "c261a9c6-e17c-4e06-ddfa-eb5ce0cc27bd"
      },
      "execution_count": 157,
      "outputs": [
        {
          "output_type": "stream",
          "name": "stdout",
          "text": [
            "\n",
            "Fitur Setelah Normalisasi:\n",
            "        Age  Gender  Stress Level  Sleep Duration  Quality of Sleep  \\\n",
            "0 -1.753096       1      0.347021       -1.298887         -1.098280   \n",
            "1 -1.637643       1      1.475592       -1.173036         -1.098280   \n",
            "2 -1.637643       1      1.475592       -1.173036         -1.098280   \n",
            "3 -1.637643       1      1.475592       -1.550588         -2.771424   \n",
            "4 -1.637643       1      1.475592       -1.550588         -2.771424   \n",
            "\n",
            "   Occupation  \n",
            "0           9  \n",
            "1           1  \n",
            "2           1  \n",
            "3           6  \n",
            "4           6  \n"
          ]
        }
      ]
    },
    {
      "cell_type": "markdown",
      "source": [
        "***Penyeimbangan Kelas dengan SMOTE.***"
      ],
      "metadata": {
        "id": "JyA2GF8Qbi1Y"
      }
    },
    {
      "cell_type": "code",
      "source": [
        "# Mengecek distribusi kelas target\n",
        "print(\"Distribusi Kelas Target:\")\n",
        "print(data['Insomnia'].value_counts())"
      ],
      "metadata": {
        "colab": {
          "base_uri": "https://localhost:8080/"
        },
        "id": "M4ndE52rkx96",
        "outputId": "629cd4c9-9877-4e98-ecfd-f047eef6c50e"
      },
      "execution_count": 158,
      "outputs": [
        {
          "output_type": "stream",
          "name": "stdout",
          "text": [
            "Distribusi Kelas Target:\n",
            "Insomnia\n",
            "0    254\n",
            "1    120\n",
            "Name: count, dtype: int64\n"
          ]
        }
      ]
    },
    {
      "cell_type": "code",
      "source": [
        "if data['Insomnia'].nunique() > 1:\n",
        "    smote = SMOTE(sampling_strategy='minority', random_state=42)\n",
        "    X_resampled, y_resampled = smote.fit_resample(X, y)\n",
        "    print(\"Distribusi Kelas Target Setelah SMOTE:\")\n",
        "    print(f\"Jumlah data pada kelas 0 (Tidak Insomnia): {sum(y_resampled == 0)}\")\n",
        "    print(f\"Jumlah data pada kelas 1 (Insomnia): {sum(y_resampled == 1)}\")\n",
        "else:\n",
        "    print(\"Data hanya memiliki satu kelas, tidak dapat melakukan SMOTE.\")"
      ],
      "metadata": {
        "colab": {
          "base_uri": "https://localhost:8080/"
        },
        "id": "AHl9_-VElK5Y",
        "outputId": "0539ebf1-3b02-4003-f0a9-1b0434fb1543"
      },
      "execution_count": 159,
      "outputs": [
        {
          "output_type": "stream",
          "name": "stdout",
          "text": [
            "Distribusi Kelas Target Setelah SMOTE:\n",
            "Jumlah data pada kelas 0 (Tidak Insomnia): 254\n",
            "Jumlah data pada kelas 1 (Insomnia): 254\n"
          ]
        }
      ]
    },
    {
      "cell_type": "markdown",
      "source": [
        "***Verifikasi Hasil Preprocessing.***"
      ],
      "metadata": {
        "id": "Yn2V_a8nblZX"
      }
    },
    {
      "cell_type": "code",
      "source": [
        "# 1. Cek Nilai Kosong (Missing Values)\n",
        "print(\"Jumlah Nilai Kosong per Kolom Setelah Preprocessing:\")\n",
        "print(data[selected_features].isnull().sum())\n",
        "\n",
        "# 2. Cek Duplikat (Duplicate Rows)\n",
        "print(\"\\nJumlah Baris Duplikat Setelah Preprocessing:\")\n",
        "print(data.duplicated().sum())\n",
        "\n",
        "# 3. Distribusi Kelas Target Setelah SMOTE\n",
        "print(\"\\nDistribusi Kelas Target Setelah SMOTE:\")\n",
        "print(y_resampled.value_counts())\n",
        "\n",
        "# 4. Cek Kembali Fitur dan Target\n",
        "print(\"\\nBentuk Fitur dan Target:\")\n",
        "print(\"Fitur (X) Shape:\", X_resampled.shape)\n",
        "print(\"Target (y) Shape:\", y_resampled.shape)"
      ],
      "metadata": {
        "colab": {
          "base_uri": "https://localhost:8080/"
        },
        "id": "A1-uobf2-zs1",
        "outputId": "4d4937a3-4664-4371-9bc9-b300ac545b49"
      },
      "execution_count": 163,
      "outputs": [
        {
          "output_type": "stream",
          "name": "stdout",
          "text": [
            "Jumlah Nilai Kosong per Kolom Setelah Preprocessing:\n",
            "Age                 0\n",
            "Gender              0\n",
            "Stress Level        0\n",
            "Sleep Duration      0\n",
            "Quality of Sleep    0\n",
            "Occupation          0\n",
            "dtype: int64\n",
            "\n",
            "Jumlah Baris Duplikat Setelah Preprocessing:\n",
            "0\n",
            "\n",
            "Distribusi Kelas Target Setelah SMOTE:\n",
            "Insomnia\n",
            "0    254\n",
            "1    254\n",
            "Name: count, dtype: int64\n",
            "\n",
            "Bentuk Fitur dan Target:\n",
            "Fitur (X) Shape: (508, 6)\n",
            "Target (y) Shape: (508,)\n"
          ]
        }
      ]
    },
    {
      "cell_type": "markdown",
      "source": [
        "#**Building the Model**"
      ],
      "metadata": {
        "id": "7JZFaNa0qzd5"
      }
    },
    {
      "cell_type": "markdown",
      "source": [
        "#**Training the Model**"
      ],
      "metadata": {
        "id": "EGhUR7Agq51a"
      }
    },
    {
      "cell_type": "markdown",
      "source": [
        "#**Evaluate Model**"
      ],
      "metadata": {
        "id": "xuL_VcKRrAo1"
      }
    },
    {
      "cell_type": "markdown",
      "source": [
        "#**Model Deployment**"
      ],
      "metadata": {
        "id": "1r8nWHMnrflZ"
      }
    }
  ]
}