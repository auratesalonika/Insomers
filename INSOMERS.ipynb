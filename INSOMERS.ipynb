{
  "cells": [
    {
      "cell_type": "markdown",
      "metadata": {
        "id": "view-in-github",
        "colab_type": "text"
      },
      "source": [
        "<a href=\"https://colab.research.google.com/github/rismdgn/Insomers/blob/patch-1/INSOMERS.ipynb\" target=\"_parent\"><img src=\"https://colab.research.google.com/assets/colab-badge.svg\" alt=\"Open In Colab\"/></a>"
      ]
    },
    {
      "cell_type": "code",
      "execution_count": null,
      "metadata": {
        "id": "uzF4CqEi9ZyI"
      },
      "outputs": [],
      "source": [
        "import pandas as pd\n",
        "import numpy as np\n",
        "import tensorflow as tf\n",
        "import matplotlib.pyplot as plt\n",
        "import seaborn as sns\n",
        "from sklearn.model_selection import train_test_split\n",
        "from sklearn.preprocessing import StandardScaler, LabelEncoder\n",
        "from sklearn.metrics import classification_report\n",
        "from sklearn.metrics import roc_curve, auc\n",
        "from sklearn.metrics import precision_recall_curve\n",
        "from sklearn.model_selection import GridSearchCV\n",
        "from sklearn.metrics import classification_report, confusion_matrix, accuracy_score\n",
        "from imblearn.over_sampling import SMOTE\n",
        "from tensorflow.keras.models import Sequential\n",
        "from tensorflow.keras.layers import Dense, Dropout\n",
        "from tensorflow.keras.optimizers import Adam, RMSprop\n",
        "from tensorflow.keras.callbacks import EarlyStopping\n",
        "from keras.models import Sequential\n",
        "from keras.layers import Dense\n",
        "# from tensorflow.keras.wrappers.scikit_learn import KerasClassifier"
      ]
    },
    {
      "cell_type": "code",
      "execution_count": null,
      "metadata": {
        "colab": {
          "base_uri": "https://localhost:8080/"
        },
        "id": "a5KD_xwhQiXH",
        "outputId": "4330e068-b2c7-496a-c2d1-39c69be4fb6b"
      },
      "outputs": [
        {
          "output_type": "stream",
          "name": "stdout",
          "text": [
            "2.17.1\n"
          ]
        }
      ],
      "source": [
        "print(tf.__version__)"
      ]
    },
    {
      "cell_type": "markdown",
      "metadata": {
        "id": "Unc3jwOU9gQq"
      },
      "source": [
        "#**Data Collection**"
      ]
    },
    {
      "cell_type": "code",
      "execution_count": null,
      "metadata": {
        "id": "GP02KsM09kPJ"
      },
      "outputs": [],
      "source": [
        "# Membaca dataset\n",
        "file_path = '/content/Sleep_health_and_lifestyle_dataset.csv'\n",
        "data = pd.read_csv(file_path)"
      ]
    },
    {
      "cell_type": "code",
      "execution_count": null,
      "metadata": {
        "id": "MnrI7toABMj2",
        "colab": {
          "base_uri": "https://localhost:8080/"
        },
        "outputId": "f442efbf-2bd0-445b-bd3a-8ccc7bc7ece2"
      },
      "outputs": [
        {
          "output_type": "stream",
          "name": "stdout",
          "text": [
            "Nama Kolom:\n",
            "Index(['Person ID', 'Gender', 'Age', 'Occupation', 'Sleep Duration',\n",
            "       'Quality of Sleep', 'Physical Activity Level', 'Stress Level',\n",
            "       'BMI Category', 'Blood Pressure', 'Heart Rate', 'Daily Steps',\n",
            "       'Sleep Disorder'],\n",
            "      dtype='object')\n"
          ]
        }
      ],
      "source": [
        "# Menampilkan nama kolom dan beberapa baris pertama\n",
        "print(\"Nama Kolom:\")\n",
        "print(data.columns)"
      ]
    },
    {
      "cell_type": "code",
      "execution_count": null,
      "metadata": {
        "id": "P_1BEX3j_2gg",
        "colab": {
          "base_uri": "https://localhost:8080/"
        },
        "outputId": "8ace1eec-a296-443a-aec0-483f66bb90ba"
      },
      "outputs": [
        {
          "output_type": "stream",
          "name": "stdout",
          "text": [
            "Preview Dataset:\n",
            "   Person ID Gender  Age            Occupation  Sleep Duration  \\\n",
            "0          1   Male   27     Software Engineer             6.1   \n",
            "1          2   Male   28                Doctor             6.2   \n",
            "2          3   Male   28                Doctor             6.2   \n",
            "3          4   Male   28  Sales Representative             5.9   \n",
            "4          5   Male   28  Sales Representative             5.9   \n",
            "\n",
            "   Quality of Sleep  Physical Activity Level  Stress Level BMI Category  \\\n",
            "0                 6                       42             6   Overweight   \n",
            "1                 6                       60             8       Normal   \n",
            "2                 6                       60             8       Normal   \n",
            "3                 4                       30             8        Obese   \n",
            "4                 4                       30             8        Obese   \n",
            "\n",
            "  Blood Pressure  Heart Rate  Daily Steps Sleep Disorder  \n",
            "0         126/83          77         4200            NaN  \n",
            "1         125/80          75        10000            NaN  \n",
            "2         125/80          75        10000            NaN  \n",
            "3         140/90          85         3000    Sleep Apnea  \n",
            "4         140/90          85         3000    Sleep Apnea  \n"
          ]
        }
      ],
      "source": [
        "# Menampilkan beberapa baris pertama\n",
        "print(\"Preview Dataset:\")\n",
        "print(data.head())"
      ]
    },
    {
      "cell_type": "code",
      "execution_count": null,
      "metadata": {
        "id": "i9iak-NF_6b5",
        "colab": {
          "base_uri": "https://localhost:8080/"
        },
        "outputId": "b8d4e181-0ee8-4e00-b5e7-a48a5edaeaef"
      },
      "outputs": [
        {
          "output_type": "stream",
          "name": "stdout",
          "text": [
            "\n",
            "Informasi Dataset:\n",
            "<class 'pandas.core.frame.DataFrame'>\n",
            "RangeIndex: 374 entries, 0 to 373\n",
            "Data columns (total 13 columns):\n",
            " #   Column                   Non-Null Count  Dtype  \n",
            "---  ------                   --------------  -----  \n",
            " 0   Person ID                374 non-null    int64  \n",
            " 1   Gender                   374 non-null    object \n",
            " 2   Age                      374 non-null    int64  \n",
            " 3   Occupation               374 non-null    object \n",
            " 4   Sleep Duration           374 non-null    float64\n",
            " 5   Quality of Sleep         374 non-null    int64  \n",
            " 6   Physical Activity Level  374 non-null    int64  \n",
            " 7   Stress Level             374 non-null    int64  \n",
            " 8   BMI Category             374 non-null    object \n",
            " 9   Blood Pressure           374 non-null    object \n",
            " 10  Heart Rate               374 non-null    int64  \n",
            " 11  Daily Steps              374 non-null    int64  \n",
            " 12  Sleep Disorder           155 non-null    object \n",
            "dtypes: float64(1), int64(7), object(5)\n",
            "memory usage: 38.1+ KB\n",
            "None\n"
          ]
        }
      ],
      "source": [
        "# Menampilkan informasi tentang kolom dataset\n",
        "print(\"\\nInformasi Dataset:\")\n",
        "print(data.info())"
      ]
    },
    {
      "cell_type": "code",
      "execution_count": null,
      "metadata": {
        "id": "W4zyKZQ5_9hS",
        "colab": {
          "base_uri": "https://localhost:8080/"
        },
        "outputId": "7cd967ca-50d3-4edb-ab59-090c9a02c5b2"
      },
      "outputs": [
        {
          "output_type": "stream",
          "name": "stdout",
          "text": [
            "\n",
            "Statistik Deskriptif:\n",
            "        Person ID         Age  Sleep Duration  Quality of Sleep  \\\n",
            "count  374.000000  374.000000      374.000000        374.000000   \n",
            "mean   187.500000   42.184492        7.132086          7.312834   \n",
            "std    108.108742    8.673133        0.795657          1.196956   \n",
            "min      1.000000   27.000000        5.800000          4.000000   \n",
            "25%     94.250000   35.250000        6.400000          6.000000   \n",
            "50%    187.500000   43.000000        7.200000          7.000000   \n",
            "75%    280.750000   50.000000        7.800000          8.000000   \n",
            "max    374.000000   59.000000        8.500000          9.000000   \n",
            "\n",
            "       Physical Activity Level  Stress Level  Heart Rate   Daily Steps  \n",
            "count               374.000000    374.000000  374.000000    374.000000  \n",
            "mean                 59.171123      5.385027   70.165775   6816.844920  \n",
            "std                  20.830804      1.774526    4.135676   1617.915679  \n",
            "min                  30.000000      3.000000   65.000000   3000.000000  \n",
            "25%                  45.000000      4.000000   68.000000   5600.000000  \n",
            "50%                  60.000000      5.000000   70.000000   7000.000000  \n",
            "75%                  75.000000      7.000000   72.000000   8000.000000  \n",
            "max                  90.000000      8.000000   86.000000  10000.000000  \n"
          ]
        }
      ],
      "source": [
        "# Menampilkan statistik deskriptif\n",
        "print(\"\\nStatistik Deskriptif:\")\n",
        "print(data.describe())"
      ]
    },
    {
      "cell_type": "code",
      "execution_count": null,
      "metadata": {
        "id": "nCYKFwwQBTGg",
        "colab": {
          "base_uri": "https://localhost:8080/"
        },
        "outputId": "b0b1d31c-2ca0-4058-b8c6-548b88baac03"
      },
      "outputs": [
        {
          "output_type": "stream",
          "name": "stdout",
          "text": [
            "\n",
            "Ukuran Dataset: 374 baris, 13 kolom\n"
          ]
        }
      ],
      "source": [
        "# Memeriksa ukuran dataset\n",
        "print(f\"\\nUkuran Dataset: {data.shape[0]} baris, {data.shape[1]} kolom\")"
      ]
    },
    {
      "cell_type": "code",
      "execution_count": null,
      "metadata": {
        "id": "Hf9sXCCIBZRX",
        "colab": {
          "base_uri": "https://localhost:8080/"
        },
        "outputId": "4a166286-2365-4be3-c695-ca103862915b"
      },
      "outputs": [
        {
          "output_type": "stream",
          "name": "stdout",
          "text": [
            "\n",
            "Nilai Unik di Kolom 'Gender':\n",
            "['Male' 'Female']\n"
          ]
        }
      ],
      "source": [
        "# Mengecek nilai unik untuk kolom kategori\n",
        "for col in ['Gender']:\n",
        "    if col in data.columns:\n",
        "        print(f\"\\nNilai Unik di Kolom '{col}':\")\n",
        "        print(data[col].unique())"
      ]
    },
    {
      "cell_type": "markdown",
      "metadata": {
        "id": "PGXEuaJ496YI"
      },
      "source": [
        "#**Data Pre-Processing**"
      ]
    },
    {
      "cell_type": "markdown",
      "metadata": {
        "id": "ET90rBm6bJjk"
      },
      "source": [
        "***Cek Nilai Kosong***"
      ]
    },
    {
      "cell_type": "code",
      "execution_count": null,
      "metadata": {
        "id": "uWpwKVgvbqOS",
        "colab": {
          "base_uri": "https://localhost:8080/"
        },
        "outputId": "9f9f0eaf-0d94-4987-ef78-f58c45f53597"
      },
      "outputs": [
        {
          "output_type": "stream",
          "name": "stdout",
          "text": [
            "\n",
            "Jumlah Nilai Kosong per Kolom Sebelum Preprocessing:\n",
            "Person ID                    0\n",
            "Gender                       0\n",
            "Age                          0\n",
            "Occupation                   0\n",
            "Sleep Duration               0\n",
            "Quality of Sleep             0\n",
            "Physical Activity Level      0\n",
            "Stress Level                 0\n",
            "BMI Category                 0\n",
            "Blood Pressure               0\n",
            "Heart Rate                   0\n",
            "Daily Steps                  0\n",
            "Sleep Disorder             219\n",
            "dtype: int64\n"
          ]
        }
      ],
      "source": [
        "missing_values = data.isnull().sum()\n",
        "print(\"\\nJumlah Nilai Kosong per Kolom Sebelum Preprocessing:\")\n",
        "print(missing_values)"
      ]
    },
    {
      "cell_type": "markdown",
      "metadata": {
        "id": "vyjerrmNbQvy"
      },
      "source": [
        "***Cek dan Tangani Duplikat (Duplicate Rows).***"
      ]
    },
    {
      "cell_type": "code",
      "execution_count": null,
      "metadata": {
        "id": "AOP1VnNFfe0O",
        "colab": {
          "base_uri": "https://localhost:8080/"
        },
        "outputId": "1638b895-a01b-4ca0-ea97-363e2d385394"
      },
      "outputs": [
        {
          "output_type": "stream",
          "name": "stdout",
          "text": [
            "Jumlah Baris Duplikat (Semua Kolom): 0\n"
          ]
        }
      ],
      "source": [
        "# semua kolom\n",
        "duplicate_rows_all = data.duplicated().sum()\n",
        "print(f\"Jumlah Baris Duplikat (Semua Kolom): {duplicate_rows_all}\")"
      ]
    },
    {
      "cell_type": "code",
      "execution_count": null,
      "metadata": {
        "id": "psQqyZ3ReOq5",
        "colab": {
          "base_uri": "https://localhost:8080/"
        },
        "outputId": "ab630b51-b6a1-4284-ce63-52581cc6d15a"
      },
      "outputs": [
        {
          "output_type": "stream",
          "name": "stdout",
          "text": [
            "Jumlah Baris Duplikat (Berdasarkan Kolom Tertentu): 268\n"
          ]
        }
      ],
      "source": [
        "# kolom tertentu\n",
        "duplicate_rows_subset = data[['Age', 'Gender', 'Stress Level', 'Sleep Duration', 'Quality of Sleep']].duplicated().sum()\n",
        "print(f\"Jumlah Baris Duplikat (Berdasarkan Kolom Tertentu): {duplicate_rows_subset}\")"
      ]
    },
    {
      "cell_type": "code",
      "execution_count": null,
      "metadata": {
        "id": "-BG6ITzPgMuO",
        "colab": {
          "base_uri": "https://localhost:8080/"
        },
        "outputId": "0c49b7da-b6b7-4415-cd4e-fcfa80f43a44"
      },
      "outputs": [
        {
          "output_type": "stream",
          "name": "stdout",
          "text": [
            "\n",
            "Contoh Baris Duplikat:\n",
            "   Person ID Gender  Age            Occupation  Sleep Duration  \\\n",
            "1          2   Male   28                Doctor             6.2   \n",
            "2          3   Male   28                Doctor             6.2   \n",
            "3          4   Male   28  Sales Representative             5.9   \n",
            "4          5   Male   28  Sales Representative             5.9   \n",
            "5          6   Male   28     Software Engineer             5.9   \n",
            "\n",
            "   Quality of Sleep  Physical Activity Level  Stress Level BMI Category  \\\n",
            "1                 6                       60             8       Normal   \n",
            "2                 6                       60             8       Normal   \n",
            "3                 4                       30             8        Obese   \n",
            "4                 4                       30             8        Obese   \n",
            "5                 4                       30             8        Obese   \n",
            "\n",
            "  Blood Pressure  Heart Rate  Daily Steps Sleep Disorder  \n",
            "1         125/80          75        10000            NaN  \n",
            "2         125/80          75        10000            NaN  \n",
            "3         140/90          85         3000    Sleep Apnea  \n",
            "4         140/90          85         3000    Sleep Apnea  \n",
            "5         140/90          85         3000       Insomnia  \n"
          ]
        }
      ],
      "source": [
        "# Analisis baris duplikat\n",
        "duplicates = data[data.duplicated(subset=['Age', 'Gender', 'Stress Level', 'Sleep Duration', 'Quality of Sleep'], keep=False)]\n",
        "print(f\"\\nContoh Baris Duplikat:\\n{duplicates.head()}\")"
      ]
    },
    {
      "cell_type": "code",
      "execution_count": null,
      "metadata": {
        "id": "sQQULwtvjAiF",
        "colab": {
          "base_uri": "https://localhost:8080/"
        },
        "outputId": "14fadd2e-5c2d-41f2-bf71-bf862b52af1c"
      },
      "outputs": [
        {
          "output_type": "stream",
          "name": "stdout",
          "text": [
            "Jumlah baris setelah memeriksa duplikat: 374\n",
            "\n"
          ]
        }
      ],
      "source": [
        "print(f\"Jumlah baris setelah memeriksa duplikat: {len(data)}\\n\")"
      ]
    },
    {
      "cell_type": "markdown",
      "metadata": {
        "id": "MreddbyjbY_N"
      },
      "source": [
        "***Penanganan Kelas Target (Insomnia).***"
      ]
    },
    {
      "cell_type": "code",
      "execution_count": null,
      "metadata": {
        "id": "9jWqYJl5cGmp",
        "colab": {
          "base_uri": "https://localhost:8080/"
        },
        "outputId": "543e7c79-752e-4a4a-e4ca-c69f7e205d5b"
      },
      "outputs": [
        {
          "output_type": "stream",
          "name": "stdout",
          "text": [
            "Kolom dalam dataset:\n",
            "Index(['Person ID', 'Gender', 'Age', 'Occupation', 'Sleep Duration',\n",
            "       'Quality of Sleep', 'Physical Activity Level', 'Stress Level',\n",
            "       'BMI Category', 'Blood Pressure', 'Heart Rate', 'Daily Steps',\n",
            "       'Sleep Disorder'],\n",
            "      dtype='object')\n"
          ]
        }
      ],
      "source": [
        "# Memeriksa nama kolom dalam dataset\n",
        "print(\"Kolom dalam dataset:\")\n",
        "print(data.columns)"
      ]
    },
    {
      "cell_type": "code",
      "execution_count": null,
      "metadata": {
        "id": "KpAFE3v1joo_",
        "colab": {
          "base_uri": "https://localhost:8080/"
        },
        "outputId": "26eb2fe5-100f-4d09-aca2-8a20eb8805f4"
      },
      "outputs": [
        {
          "output_type": "stream",
          "name": "stdout",
          "text": [
            "\n",
            "Kolom 'Insomnia' tidak ditemukan. Harap periksa nama kolom atau gunakan nama yang benar.\n"
          ]
        }
      ],
      "source": [
        "# Menangani jika kolom Insomnia tidak ditemukan\n",
        "if 'Insomnia' not in data.columns:\n",
        "    print(\"\\nKolom 'Insomnia' tidak ditemukan. Harap periksa nama kolom atau gunakan nama yang benar.\")\n",
        "else:\n",
        "    print(\"\\nDistribusi Kelas Target Sebelum Preprocessing:\")\n",
        "    print(data['Insomnia'].value_counts())"
      ]
    },
    {
      "cell_type": "code",
      "execution_count": null,
      "metadata": {
        "id": "Xgd0Cw3nj_uY"
      },
      "outputs": [],
      "source": [
        "# Menambahkan Kolom Insomnia\n",
        "# Misalnya: Sleep Quality < 3 atau Sleep Duration < 5 dianggap insomnia\n",
        "data['Insomnia'] = ((data['Quality of Sleep'] <= 5) | (data['Sleep Duration'] <= 5) |\n",
        "                     (data['Stress Level'] >= 4)).astype(int)"
      ]
    },
    {
      "cell_type": "code",
      "execution_count": null,
      "metadata": {
        "id": "fjS09uhvlxs0",
        "colab": {
          "base_uri": "https://localhost:8080/"
        },
        "outputId": "5a0f47bf-b0f9-4d57-f361-2e9bc7ec282d"
      },
      "outputs": [
        {
          "output_type": "stream",
          "name": "stdout",
          "text": [
            "\n",
            "Preview Dataset dengan Kolom Insomnia:\n",
            "  Gender  Quality of Sleep  Sleep Duration  Stress Level  Insomnia\n",
            "0   Male                 6             6.1             6         1\n",
            "1   Male                 6             6.2             8         1\n",
            "2   Male                 6             6.2             8         1\n",
            "3   Male                 4             5.9             8         1\n",
            "4   Male                 4             5.9             8         1\n"
          ]
        }
      ],
      "source": [
        "# Preview dataset dengan kolom Insomnia\n",
        "print(\"\\nPreview Dataset dengan Kolom Insomnia:\")\n",
        "print(data[['Gender', 'Quality of Sleep', 'Sleep Duration', 'Stress Level', 'Insomnia']].head())"
      ]
    },
    {
      "cell_type": "markdown",
      "metadata": {
        "id": "SjYSJLhVbaa5"
      },
      "source": [
        "***Pilih Fitur dan Target.***"
      ]
    },
    {
      "cell_type": "code",
      "execution_count": null,
      "metadata": {
        "id": "MLxWH7XkcJxL"
      },
      "outputs": [],
      "source": [
        "# Menentukan kolom yang relevan setelah preprocessing\n",
        "selected_features = ['Gender', 'Stress Level', 'Sleep Duration', 'Quality of Sleep']\n",
        "target_column = ['Insomnia']"
      ]
    },
    {
      "cell_type": "code",
      "execution_count": null,
      "metadata": {
        "id": "7vJ8SjXxk3Zb"
      },
      "outputs": [],
      "source": [
        "X = data[selected_features]\n",
        "y = data[target_column]"
      ]
    },
    {
      "cell_type": "markdown",
      "metadata": {
        "id": "AZ2_SuAzbdN_"
      },
      "source": [
        "***Encoding Kolom Kategori (Label Encoding).***"
      ]
    },
    {
      "cell_type": "code",
      "execution_count": null,
      "metadata": {
        "id": "Z9u-V7VBkaI3",
        "colab": {
          "base_uri": "https://localhost:8080/"
        },
        "outputId": "045f83f0-3742-4bc0-9720-bbed6ae19077"
      },
      "outputs": [
        {
          "output_type": "stream",
          "name": "stderr",
          "text": [
            "<ipython-input-39-64b9fda96674>:2: SettingWithCopyWarning: \n",
            "A value is trying to be set on a copy of a slice from a DataFrame.\n",
            "Try using .loc[row_indexer,col_indexer] = value instead\n",
            "\n",
            "See the caveats in the documentation: https://pandas.pydata.org/pandas-docs/stable/user_guide/indexing.html#returning-a-view-versus-a-copy\n",
            "  X['Gender'] = X['Gender'].map({'Male': 1, 'Female': 0})\n"
          ]
        }
      ],
      "source": [
        "# Ubah Gender menjadi numerik: Male -> 1, Female -> 0\n",
        "X['Gender'] = X['Gender'].map({'Male': 1, 'Female': 0})"
      ]
    },
    {
      "cell_type": "code",
      "execution_count": null,
      "metadata": {
        "id": "DgMfV3zL7fHM",
        "colab": {
          "base_uri": "https://localhost:8080/"
        },
        "outputId": "a6fc67c5-8e7f-41e8-fe50-6af9e2bef8a8"
      },
      "outputs": [
        {
          "output_type": "stream",
          "name": "stdout",
          "text": [
            "Gender              0\n",
            "Stress Level        0\n",
            "Sleep Duration      0\n",
            "Quality of Sleep    0\n",
            "dtype: int64\n"
          ]
        }
      ],
      "source": [
        "# Cek apakah ada nilai null setelah transformasi\n",
        "print(X.isnull().sum())"
      ]
    },
    {
      "cell_type": "markdown",
      "metadata": {
        "id": "7FBgPB06bgfW"
      },
      "source": [
        "***Normalisasi Fitur Numerik (Standardization).***"
      ]
    },
    {
      "cell_type": "code",
      "execution_count": null,
      "metadata": {
        "id": "6pOh77zQkjq9",
        "colab": {
          "base_uri": "https://localhost:8080/"
        },
        "outputId": "10e26166-6fd7-4af7-f755-18c7f082e100"
      },
      "outputs": [
        {
          "output_type": "stream",
          "name": "stderr",
          "text": [
            "<ipython-input-41-289e98405b8d>:5: SettingWithCopyWarning: \n",
            "A value is trying to be set on a copy of a slice from a DataFrame.\n",
            "Try using .loc[row_indexer,col_indexer] = value instead\n",
            "\n",
            "See the caveats in the documentation: https://pandas.pydata.org/pandas-docs/stable/user_guide/indexing.html#returning-a-view-versus-a-copy\n",
            "  X[['Stress Level', 'Sleep Duration', 'Quality of Sleep']] = scaler.fit_transform(\n"
          ]
        }
      ],
      "source": [
        "# Inisialisasi scaler\n",
        "scaler = StandardScaler()\n",
        "\n",
        "# Normalisasi fitur (kecuali Gender jika sudah numerik)\n",
        "X[['Stress Level', 'Sleep Duration', 'Quality of Sleep']] = scaler.fit_transform(\n",
        "    X[['Stress Level', 'Sleep Duration', 'Quality of Sleep']]\n",
        ")"
      ]
    },
    {
      "cell_type": "code",
      "execution_count": null,
      "metadata": {
        "id": "i-Ke2JU6kslB",
        "colab": {
          "base_uri": "https://localhost:8080/"
        },
        "outputId": "7b13f4ac-1216-4e6c-e79d-54102a701e47"
      },
      "outputs": [
        {
          "output_type": "stream",
          "name": "stdout",
          "text": [
            "\n",
            "Fitur Setelah Normalisasi:\n",
            "   Gender  Stress Level  Sleep Duration  Quality of Sleep\n",
            "0       1      0.347021       -1.298887         -1.098280\n",
            "1       1      1.475592       -1.173036         -1.098280\n",
            "2       1      1.475592       -1.173036         -1.098280\n",
            "3       1      1.475592       -1.550588         -2.771424\n",
            "4       1      1.475592       -1.550588         -2.771424\n"
          ]
        }
      ],
      "source": [
        "print(\"\\nFitur Setelah Normalisasi:\")\n",
        "print(X.head())"
      ]
    },
    {
      "cell_type": "code",
      "execution_count": null,
      "metadata": {
        "id": "S62Pdv54dQPc",
        "colab": {
          "base_uri": "https://localhost:8080/"
        },
        "outputId": "a9d197b8-087e-4dc0-9d32-d1de32ac7fda"
      },
      "outputs": [
        {
          "output_type": "stream",
          "name": "stdout",
          "text": [
            "Mean setelah normalisasi:\n",
            "Gender              5.053476e-01\n",
            "Stress Level        1.994839e-16\n",
            "Sleep Duration      1.348891e-15\n",
            "Quality of Sleep    2.469801e-16\n",
            "dtype: float64\n",
            "\n",
            "Standar Deviasi setelah normalisasi:\n",
            "Gender              0.500641\n",
            "Stress Level        1.001340\n",
            "Sleep Duration      1.001340\n",
            "Quality of Sleep    1.001340\n",
            "dtype: float64\n"
          ]
        }
      ],
      "source": [
        "# Verifikasi mean dan standar deviasi setelah normalisasi\n",
        "print(\"Mean setelah normalisasi:\")\n",
        "print(pd.DataFrame(X).mean())\n",
        "\n",
        "print(\"\\nStandar Deviasi setelah normalisasi:\")\n",
        "print(pd.DataFrame(X).std())"
      ]
    },
    {
      "cell_type": "markdown",
      "metadata": {
        "id": "JyA2GF8Qbi1Y"
      },
      "source": [
        "***Penyeimbangan Kelas dengan SMOTE.***"
      ]
    },
    {
      "cell_type": "code",
      "execution_count": null,
      "metadata": {
        "id": "M4ndE52rkx96",
        "colab": {
          "base_uri": "https://localhost:8080/"
        },
        "outputId": "7fbf1944-a5fc-4742-f32e-7821413ce826"
      },
      "outputs": [
        {
          "output_type": "stream",
          "name": "stdout",
          "text": [
            "Distribusi Kelas Target:\n",
            "Insomnia\n",
            "1    303\n",
            "0     71\n",
            "Name: count, dtype: int64\n"
          ]
        }
      ],
      "source": [
        "# Mengecek distribusi kelas target\n",
        "print(\"Distribusi Kelas Target:\")\n",
        "print(data['Insomnia'].value_counts())"
      ]
    },
    {
      "cell_type": "markdown",
      "metadata": {
        "id": "Yn2V_a8nblZX"
      },
      "source": [
        "***Verifikasi Hasil Preprocessing.***"
      ]
    },
    {
      "cell_type": "code",
      "execution_count": null,
      "metadata": {
        "id": "skygRD3ItYdH"
      },
      "outputs": [],
      "source": [
        "# # 3. Apply SMOTE to oversample the minority class in the training data\n",
        "# smote = SMOTE(random_state=42)  # Adjust random_state as needed\n",
        "# X_resampled, y_resampled = smote.fit_resample(X_train, y_train)"
      ]
    },
    {
      "cell_type": "code",
      "execution_count": null,
      "metadata": {
        "id": "A1-uobf2-zs1",
        "colab": {
          "base_uri": "https://localhost:8080/"
        },
        "outputId": "779e215d-83fc-412b-c7dd-413796bd88d4"
      },
      "outputs": [
        {
          "output_type": "stream",
          "name": "stdout",
          "text": [
            "Jumlah Nilai Kosong per Kolom Setelah Preprocessing:\n",
            "Gender              0\n",
            "Stress Level        0\n",
            "Sleep Duration      0\n",
            "Quality of Sleep    0\n",
            "dtype: int64\n",
            "\n",
            "Jumlah Baris Duplikat Setelah Preprocessing:\n",
            "0\n",
            "\n",
            "Distribusi Kelas Target Setelah SMOTE:\n",
            "Insomnia\n",
            "1           303\n",
            "0            71\n",
            "Name: count, dtype: int64\n",
            "\n",
            "Bentuk Fitur dan Target:\n",
            "Fitur (X) Shape: (374, 4)\n",
            "Target (y) Shape: (374, 1)\n",
            "\n",
            "Unique values in 'Gender' column:\n",
            "[1 0]\n",
            "\n",
            "Jumlah nilai null pada 'Gender': 0\n"
          ]
        }
      ],
      "source": [
        "# 1. Cek Nilai Kosong (Missing Values)\n",
        "print(\"Jumlah Nilai Kosong per Kolom Setelah Preprocessing:\")\n",
        "print(data[selected_features].isnull().sum())\n",
        "\n",
        "# 2. Cek Duplikat (Duplicate Rows)\n",
        "print(\"\\nJumlah Baris Duplikat Setelah Preprocessing:\")\n",
        "print(data.duplicated().sum())\n",
        "\n",
        "# 3. Distribusi Kelas Target Setelah SMOTE\n",
        "print(\"\\nDistribusi Kelas Target Setelah SMOTE:\")\n",
        "print(y.value_counts())\n",
        "\n",
        "# 4. Cek Kembali Fitur dan Target\n",
        "print(\"\\nBentuk Fitur dan Target:\")\n",
        "print(\"Fitur (X) Shape:\", X.shape)\n",
        "print(\"Target (y) Shape:\", y.shape)\n",
        "\n",
        "# Verifikasi hasil encoding kolom Gender\n",
        "print(\"\\nUnique values in 'Gender' column:\")\n",
        "print(X['Gender'].unique())  # Harus menghasilkan [0, 1]\n",
        "\n",
        "# Periksa apakah ada nilai null pada kolom Gender\n",
        "print(\"\\nJumlah nilai null pada 'Gender':\", X['Gender'].isnull().sum())\n"
      ]
    },
    {
      "cell_type": "markdown",
      "metadata": {
        "id": "7JZFaNa0qzd5"
      },
      "source": [
        "#**Building the Model**"
      ]
    },
    {
      "cell_type": "code",
      "execution_count": null,
      "metadata": {
        "id": "KaEKdth5Ztiq"
      },
      "outputs": [],
      "source": [
        "# # Splitting the data into training and testing sets\n",
        "# X_train, X_test, y_train, y_test = train_test_split(X, y, test_size=0.2, random_state=42)\n",
        "\n",
        "# Split the data into training, validation, and testing sets\n",
        "X_train_full, X_test, y_train_full, y_test = train_test_split(X, y, test_size=0.2, random_state=42)\n",
        "X_train, X_val, y_train, y_val = train_test_split(X_train_full, y_train_full, test_size=0.2, random_state=42)"
      ]
    },
    {
      "cell_type": "markdown",
      "metadata": {
        "id": "0O2aMFqwRewg"
      },
      "source": [
        "Splitting Data"
      ]
    },
    {
      "cell_type": "code",
      "execution_count": null,
      "metadata": {
        "id": "Mt5Qefw6QoxW",
        "colab": {
          "base_uri": "https://localhost:8080/"
        },
        "outputId": "11f53574-73da-47b2-c5bd-7ea33c0a42f5"
      },
      "outputs": [
        {
          "output_type": "stream",
          "name": "stdout",
          "text": [
            "Jumlah data latih: 239, Jumlah data uji: 75\n"
          ]
        }
      ],
      "source": [
        "print(f\"Jumlah data latih: {len(X_train)}, Jumlah data uji: {len(X_test)}\")"
      ]
    },
    {
      "cell_type": "code",
      "execution_count": null,
      "metadata": {
        "id": "DEHR3enBRZx6",
        "colab": {
          "base_uri": "https://localhost:8080/"
        },
        "outputId": "fdc451b1-09e2-4dbc-d80f-379163064571"
      },
      "outputs": [
        {
          "output_type": "stream",
          "name": "stdout",
          "text": [
            "\n",
            "Distribusi kelas target setelah SMOTE (Data Latih):\n",
            "Insomnia\n",
            "1           190\n",
            "0            49\n",
            "Name: count, dtype: int64\n",
            "\n",
            "Distribusi kelas target pada data uji:\n",
            "Insomnia\n",
            "1           63\n",
            "0           12\n",
            "Name: count, dtype: int64\n"
          ]
        }
      ],
      "source": [
        "# Verifikasi distribusi kelas target setelah SMOTE\n",
        "print(\"\\nDistribusi kelas target setelah SMOTE (Data Latih):\")\n",
        "print(y_train.value_counts())\n",
        "\n",
        "# Verifikasi distribusi kelas target pada data uji\n",
        "print(\"\\nDistribusi kelas target pada data uji:\")\n",
        "print(y_test.value_counts())"
      ]
    },
    {
      "cell_type": "code",
      "execution_count": null,
      "metadata": {
        "id": "ZFXO6ovnZxTI",
        "colab": {
          "base_uri": "https://localhost:8080/"
        },
        "outputId": "eed1a13b-617c-452c-e6e2-2f72c12b346d"
      },
      "outputs": [
        {
          "output_type": "stream",
          "name": "stderr",
          "text": [
            "/usr/local/lib/python3.10/dist-packages/keras/src/layers/core/dense.py:87: UserWarning: Do not pass an `input_shape`/`input_dim` argument to a layer. When using Sequential models, prefer using an `Input(shape)` object as the first layer in the model instead.\n",
            "  super().__init__(activity_regularizer=activity_regularizer, **kwargs)\n"
          ]
        }
      ],
      "source": [
        "# model DNN\n",
        "model = Sequential([\n",
        "    Dense(32, activation='relu', input_dim=X_train.shape[1]),  # Layer input + hidden pertama\n",
        "    Dropout(0.3),  # Regularisasi untuk mencegah overfitting\n",
        "    Dense(16, activation='relu'),  # Hidden layer 2\n",
        "    Dense(8, activation='relu'),  # Hidden layer 3\n",
        "    Dropout(0.3),  # Regularisasi tambahan\n",
        "    Dense(1, activation='sigmoid')  # Layer output (binary classification)\n",
        "])"
      ]
    },
    {
      "cell_type": "code",
      "execution_count": null,
      "metadata": {
        "id": "hij_dZIJZ_Pg"
      },
      "outputs": [],
      "source": [
        "# Kompilasi model\n",
        "model.compile(optimizer='sgd',\n",
        "              loss='binary_crossentropy',\n",
        "              metrics=['accuracy'])"
      ]
    },
    {
      "cell_type": "code",
      "execution_count": null,
      "metadata": {
        "id": "cqxSvt6iejAJ"
      },
      "outputs": [],
      "source": [
        "# Callback untuk early stopping jika model tidak meningkat\n",
        "early_stopping = EarlyStopping(monitor='val_loss', patience=10, restore_best_weights=True)"
      ]
    },
    {
      "cell_type": "markdown",
      "metadata": {
        "id": "G-epqqUHUKif"
      },
      "source": [
        "#**Training the Model**\n"
      ]
    },
    {
      "cell_type": "code",
      "execution_count": null,
      "metadata": {
        "id": "-ui-nSMlfmpD",
        "colab": {
          "base_uri": "https://localhost:8080/"
        },
        "outputId": "c570f41b-015a-43aa-96b7-ece678e82a30"
      },
      "outputs": [
        {
          "output_type": "stream",
          "name": "stdout",
          "text": [
            "Epoch 1/150\n",
            "\u001b[1m8/8\u001b[0m \u001b[32m━━━━━━━━━━━━━━━━━━━━\u001b[0m\u001b[37m\u001b[0m \u001b[1m2s\u001b[0m 34ms/step - accuracy: 0.8056 - loss: 0.6436 - val_accuracy: 0.8333 - val_loss: 0.5874\n",
            "Epoch 2/150\n",
            "\u001b[1m8/8\u001b[0m \u001b[32m━━━━━━━━━━━━━━━━━━━━\u001b[0m\u001b[37m\u001b[0m \u001b[1m0s\u001b[0m 6ms/step - accuracy: 0.7816 - loss: 0.5898 - val_accuracy: 0.8333 - val_loss: 0.5602\n",
            "Epoch 3/150\n",
            "\u001b[1m8/8\u001b[0m \u001b[32m━━━━━━━━━━━━━━━━━━━━\u001b[0m\u001b[37m\u001b[0m \u001b[1m0s\u001b[0m 6ms/step - accuracy: 0.7659 - loss: 0.6068 - val_accuracy: 0.8333 - val_loss: 0.5311\n",
            "Epoch 4/150\n",
            "\u001b[1m8/8\u001b[0m \u001b[32m━━━━━━━━━━━━━━━━━━━━\u001b[0m\u001b[37m\u001b[0m \u001b[1m0s\u001b[0m 8ms/step - accuracy: 0.8102 - loss: 0.5285 - val_accuracy: 0.8333 - val_loss: 0.5078\n",
            "Epoch 5/150\n",
            "\u001b[1m8/8\u001b[0m \u001b[32m━━━━━━━━━━━━━━━━━━━━\u001b[0m\u001b[37m\u001b[0m \u001b[1m0s\u001b[0m 10ms/step - accuracy: 0.8019 - loss: 0.5391 - val_accuracy: 0.8333 - val_loss: 0.4876\n",
            "Epoch 6/150\n",
            "\u001b[1m8/8\u001b[0m \u001b[32m━━━━━━━━━━━━━━━━━━━━\u001b[0m\u001b[37m\u001b[0m \u001b[1m0s\u001b[0m 8ms/step - accuracy: 0.8304 - loss: 0.5114 - val_accuracy: 0.8333 - val_loss: 0.4679\n",
            "Epoch 7/150\n",
            "\u001b[1m8/8\u001b[0m \u001b[32m━━━━━━━━━━━━━━━━━━━━\u001b[0m\u001b[37m\u001b[0m \u001b[1m0s\u001b[0m 8ms/step - accuracy: 0.8223 - loss: 0.5185 - val_accuracy: 0.8333 - val_loss: 0.4526\n",
            "Epoch 8/150\n",
            "\u001b[1m8/8\u001b[0m \u001b[32m━━━━━━━━━━━━━━━━━━━━\u001b[0m\u001b[37m\u001b[0m \u001b[1m0s\u001b[0m 7ms/step - accuracy: 0.8172 - loss: 0.4981 - val_accuracy: 0.8333 - val_loss: 0.4398\n",
            "Epoch 9/150\n",
            "\u001b[1m8/8\u001b[0m \u001b[32m━━━━━━━━━━━━━━━━━━━━\u001b[0m\u001b[37m\u001b[0m \u001b[1m0s\u001b[0m 6ms/step - accuracy: 0.8329 - loss: 0.4652 - val_accuracy: 0.8333 - val_loss: 0.4291\n",
            "Epoch 10/150\n",
            "\u001b[1m8/8\u001b[0m \u001b[32m━━━━━━━━━━━━━━━━━━━━\u001b[0m\u001b[37m\u001b[0m \u001b[1m0s\u001b[0m 6ms/step - accuracy: 0.8582 - loss: 0.4528 - val_accuracy: 0.8333 - val_loss: 0.4176\n",
            "Epoch 11/150\n",
            "\u001b[1m8/8\u001b[0m \u001b[32m━━━━━━━━━━━━━━━━━━━━\u001b[0m\u001b[37m\u001b[0m \u001b[1m0s\u001b[0m 6ms/step - accuracy: 0.8424 - loss: 0.4613 - val_accuracy: 0.8333 - val_loss: 0.4070\n",
            "Epoch 12/150\n",
            "\u001b[1m8/8\u001b[0m \u001b[32m━━━━━━━━━━━━━━━━━━━━\u001b[0m\u001b[37m\u001b[0m \u001b[1m0s\u001b[0m 6ms/step - accuracy: 0.8155 - loss: 0.4433 - val_accuracy: 0.8333 - val_loss: 0.3968\n",
            "Epoch 13/150\n",
            "\u001b[1m8/8\u001b[0m \u001b[32m━━━━━━━━━━━━━━━━━━━━\u001b[0m\u001b[37m\u001b[0m \u001b[1m0s\u001b[0m 6ms/step - accuracy: 0.8580 - loss: 0.4621 - val_accuracy: 0.8333 - val_loss: 0.3887\n",
            "Epoch 14/150\n",
            "\u001b[1m8/8\u001b[0m \u001b[32m━━━━━━━━━━━━━━━━━━━━\u001b[0m\u001b[37m\u001b[0m \u001b[1m0s\u001b[0m 6ms/step - accuracy: 0.8167 - loss: 0.4435 - val_accuracy: 0.8333 - val_loss: 0.3810\n",
            "Epoch 15/150\n",
            "\u001b[1m8/8\u001b[0m \u001b[32m━━━━━━━━━━━━━━━━━━━━\u001b[0m\u001b[37m\u001b[0m \u001b[1m0s\u001b[0m 7ms/step - accuracy: 0.8182 - loss: 0.4316 - val_accuracy: 0.8333 - val_loss: 0.3742\n",
            "Epoch 16/150\n",
            "\u001b[1m8/8\u001b[0m \u001b[32m━━━━━━━━━━━━━━━━━━━━\u001b[0m\u001b[37m\u001b[0m \u001b[1m0s\u001b[0m 7ms/step - accuracy: 0.8178 - loss: 0.4085 - val_accuracy: 0.8333 - val_loss: 0.3658\n",
            "Epoch 17/150\n",
            "\u001b[1m8/8\u001b[0m \u001b[32m━━━━━━━━━━━━━━━━━━━━\u001b[0m\u001b[37m\u001b[0m \u001b[1m0s\u001b[0m 8ms/step - accuracy: 0.8509 - loss: 0.4040 - val_accuracy: 0.8333 - val_loss: 0.3571\n",
            "Epoch 18/150\n",
            "\u001b[1m8/8\u001b[0m \u001b[32m━━━━━━━━━━━━━━━━━━━━\u001b[0m\u001b[37m\u001b[0m \u001b[1m0s\u001b[0m 8ms/step - accuracy: 0.8572 - loss: 0.4145 - val_accuracy: 0.8333 - val_loss: 0.3490\n",
            "Epoch 19/150\n",
            "\u001b[1m8/8\u001b[0m \u001b[32m━━━━━━━━━━━━━━━━━━━━\u001b[0m\u001b[37m\u001b[0m \u001b[1m0s\u001b[0m 7ms/step - accuracy: 0.8491 - loss: 0.3703 - val_accuracy: 0.8333 - val_loss: 0.3424\n",
            "Epoch 20/150\n",
            "\u001b[1m8/8\u001b[0m \u001b[32m━━━━━━━━━━━━━━━━━━━━\u001b[0m\u001b[37m\u001b[0m \u001b[1m0s\u001b[0m 6ms/step - accuracy: 0.8566 - loss: 0.4226 - val_accuracy: 0.8333 - val_loss: 0.3364\n",
            "Epoch 21/150\n",
            "\u001b[1m8/8\u001b[0m \u001b[32m━━━━━━━━━━━━━━━━━━━━\u001b[0m\u001b[37m\u001b[0m \u001b[1m0s\u001b[0m 9ms/step - accuracy: 0.8427 - loss: 0.3851 - val_accuracy: 0.8333 - val_loss: 0.3307\n",
            "Epoch 22/150\n",
            "\u001b[1m8/8\u001b[0m \u001b[32m━━━━━━━━━━━━━━━━━━━━\u001b[0m\u001b[37m\u001b[0m \u001b[1m0s\u001b[0m 6ms/step - accuracy: 0.8440 - loss: 0.3777 - val_accuracy: 0.8333 - val_loss: 0.3230\n",
            "Epoch 23/150\n",
            "\u001b[1m8/8\u001b[0m \u001b[32m━━━━━━━━━━━━━━━━━━━━\u001b[0m\u001b[37m\u001b[0m \u001b[1m0s\u001b[0m 6ms/step - accuracy: 0.8592 - loss: 0.3667 - val_accuracy: 0.8333 - val_loss: 0.3157\n",
            "Epoch 24/150\n",
            "\u001b[1m8/8\u001b[0m \u001b[32m━━━━━━━━━━━━━━━━━━━━\u001b[0m\u001b[37m\u001b[0m \u001b[1m0s\u001b[0m 5ms/step - accuracy: 0.8400 - loss: 0.3837 - val_accuracy: 0.8333 - val_loss: 0.3107\n",
            "Epoch 25/150\n",
            "\u001b[1m8/8\u001b[0m \u001b[32m━━━━━━━━━━━━━━━━━━━━\u001b[0m\u001b[37m\u001b[0m \u001b[1m0s\u001b[0m 6ms/step - accuracy: 0.8616 - loss: 0.3738 - val_accuracy: 0.9000 - val_loss: 0.3042\n",
            "Epoch 26/150\n",
            "\u001b[1m8/8\u001b[0m \u001b[32m━━━━━━━━━━━━━━━━━━━━\u001b[0m\u001b[37m\u001b[0m \u001b[1m0s\u001b[0m 9ms/step - accuracy: 0.8871 - loss: 0.3434 - val_accuracy: 0.9333 - val_loss: 0.2980\n",
            "Epoch 27/150\n",
            "\u001b[1m8/8\u001b[0m \u001b[32m━━━━━━━━━━━━━━━━━━━━\u001b[0m\u001b[37m\u001b[0m \u001b[1m0s\u001b[0m 7ms/step - accuracy: 0.8693 - loss: 0.3439 - val_accuracy: 0.9667 - val_loss: 0.2930\n",
            "Epoch 28/150\n",
            "\u001b[1m8/8\u001b[0m \u001b[32m━━━━━━━━━━━━━━━━━━━━\u001b[0m\u001b[37m\u001b[0m \u001b[1m0s\u001b[0m 7ms/step - accuracy: 0.8533 - loss: 0.3603 - val_accuracy: 1.0000 - val_loss: 0.2884\n",
            "Epoch 29/150\n",
            "\u001b[1m8/8\u001b[0m \u001b[32m━━━━━━━━━━━━━━━━━━━━\u001b[0m\u001b[37m\u001b[0m \u001b[1m0s\u001b[0m 8ms/step - accuracy: 0.8950 - loss: 0.3263 - val_accuracy: 1.0000 - val_loss: 0.2824\n",
            "Epoch 30/150\n",
            "\u001b[1m8/8\u001b[0m \u001b[32m━━━━━━━━━━━━━━━━━━━━\u001b[0m\u001b[37m\u001b[0m \u001b[1m0s\u001b[0m 6ms/step - accuracy: 0.8732 - loss: 0.3297 - val_accuracy: 1.0000 - val_loss: 0.2763\n",
            "Epoch 31/150\n",
            "\u001b[1m8/8\u001b[0m \u001b[32m━━━━━━━━━━━━━━━━━━━━\u001b[0m\u001b[37m\u001b[0m \u001b[1m0s\u001b[0m 6ms/step - accuracy: 0.8520 - loss: 0.3539 - val_accuracy: 1.0000 - val_loss: 0.2710\n",
            "Epoch 32/150\n",
            "\u001b[1m8/8\u001b[0m \u001b[32m━━━━━━━━━━━━━━━━━━━━\u001b[0m\u001b[37m\u001b[0m \u001b[1m0s\u001b[0m 6ms/step - accuracy: 0.9175 - loss: 0.3210 - val_accuracy: 1.0000 - val_loss: 0.2659\n",
            "Epoch 33/150\n",
            "\u001b[1m8/8\u001b[0m \u001b[32m━━━━━━━━━━━━━━━━━━━━\u001b[0m\u001b[37m\u001b[0m \u001b[1m0s\u001b[0m 8ms/step - accuracy: 0.8763 - loss: 0.3084 - val_accuracy: 1.0000 - val_loss: 0.2606\n",
            "Epoch 34/150\n",
            "\u001b[1m8/8\u001b[0m \u001b[32m━━━━━━━━━━━━━━━━━━━━\u001b[0m\u001b[37m\u001b[0m \u001b[1m0s\u001b[0m 8ms/step - accuracy: 0.8609 - loss: 0.3284 - val_accuracy: 1.0000 - val_loss: 0.2551\n",
            "Epoch 35/150\n",
            "\u001b[1m8/8\u001b[0m \u001b[32m━━━━━━━━━━━━━━━━━━━━\u001b[0m\u001b[37m\u001b[0m \u001b[1m0s\u001b[0m 6ms/step - accuracy: 0.8583 - loss: 0.3276 - val_accuracy: 1.0000 - val_loss: 0.2490\n",
            "Epoch 36/150\n",
            "\u001b[1m8/8\u001b[0m \u001b[32m━━━━━━━━━━━━━━━━━━━━\u001b[0m\u001b[37m\u001b[0m \u001b[1m0s\u001b[0m 9ms/step - accuracy: 0.8795 - loss: 0.3054 - val_accuracy: 1.0000 - val_loss: 0.2448\n",
            "Epoch 37/150\n",
            "\u001b[1m8/8\u001b[0m \u001b[32m━━━━━━━━━━━━━━━━━━━━\u001b[0m\u001b[37m\u001b[0m \u001b[1m0s\u001b[0m 9ms/step - accuracy: 0.8417 - loss: 0.3138 - val_accuracy: 1.0000 - val_loss: 0.2401\n",
            "Epoch 38/150\n",
            "\u001b[1m8/8\u001b[0m \u001b[32m━━━━━━━━━━━━━━━━━━━━\u001b[0m\u001b[37m\u001b[0m \u001b[1m0s\u001b[0m 8ms/step - accuracy: 0.9023 - loss: 0.2985 - val_accuracy: 1.0000 - val_loss: 0.2346\n",
            "Epoch 39/150\n",
            "\u001b[1m8/8\u001b[0m \u001b[32m━━━━━━━━━━━━━━━━━━━━\u001b[0m\u001b[37m\u001b[0m \u001b[1m0s\u001b[0m 8ms/step - accuracy: 0.8510 - loss: 0.3046 - val_accuracy: 1.0000 - val_loss: 0.2307\n",
            "Epoch 40/150\n",
            "\u001b[1m8/8\u001b[0m \u001b[32m━━━━━━━━━━━━━━━━━━━━\u001b[0m\u001b[37m\u001b[0m \u001b[1m0s\u001b[0m 8ms/step - accuracy: 0.8500 - loss: 0.3033 - val_accuracy: 1.0000 - val_loss: 0.2245\n",
            "Epoch 41/150\n",
            "\u001b[1m8/8\u001b[0m \u001b[32m━━━━━━━━━━━━━━━━━━━━\u001b[0m\u001b[37m\u001b[0m \u001b[1m0s\u001b[0m 7ms/step - accuracy: 0.8995 - loss: 0.2909 - val_accuracy: 1.0000 - val_loss: 0.2207\n",
            "Epoch 42/150\n",
            "\u001b[1m8/8\u001b[0m \u001b[32m━━━━━━━━━━━━━━━━━━━━\u001b[0m\u001b[37m\u001b[0m \u001b[1m0s\u001b[0m 8ms/step - accuracy: 0.9206 - loss: 0.2612 - val_accuracy: 1.0000 - val_loss: 0.2145\n",
            "Epoch 43/150\n",
            "\u001b[1m8/8\u001b[0m \u001b[32m━━━━━━━━━━━━━━━━━━━━\u001b[0m\u001b[37m\u001b[0m \u001b[1m0s\u001b[0m 7ms/step - accuracy: 0.8648 - loss: 0.3067 - val_accuracy: 1.0000 - val_loss: 0.2097\n",
            "Epoch 44/150\n",
            "\u001b[1m8/8\u001b[0m \u001b[32m━━━━━━━━━━━━━━━━━━━━\u001b[0m\u001b[37m\u001b[0m \u001b[1m0s\u001b[0m 6ms/step - accuracy: 0.8972 - loss: 0.2869 - val_accuracy: 1.0000 - val_loss: 0.2060\n",
            "Epoch 45/150\n",
            "\u001b[1m8/8\u001b[0m \u001b[32m━━━━━━━━━━━━━━━━━━━━\u001b[0m\u001b[37m\u001b[0m \u001b[1m0s\u001b[0m 9ms/step - accuracy: 0.8995 - loss: 0.2867 - val_accuracy: 1.0000 - val_loss: 0.2030\n",
            "Epoch 46/150\n",
            "\u001b[1m8/8\u001b[0m \u001b[32m━━━━━━━━━━━━━━━━━━━━\u001b[0m\u001b[37m\u001b[0m \u001b[1m0s\u001b[0m 10ms/step - accuracy: 0.9403 - loss: 0.2346 - val_accuracy: 1.0000 - val_loss: 0.1983\n",
            "Epoch 47/150\n",
            "\u001b[1m8/8\u001b[0m \u001b[32m━━━━━━━━━━━━━━━━━━━━\u001b[0m\u001b[37m\u001b[0m \u001b[1m0s\u001b[0m 6ms/step - accuracy: 0.9056 - loss: 0.2844 - val_accuracy: 1.0000 - val_loss: 0.1946\n",
            "Epoch 48/150\n",
            "\u001b[1m8/8\u001b[0m \u001b[32m━━━━━━━━━━━━━━━━━━━━\u001b[0m\u001b[37m\u001b[0m \u001b[1m0s\u001b[0m 6ms/step - accuracy: 0.8889 - loss: 0.2838 - val_accuracy: 1.0000 - val_loss: 0.1902\n",
            "Epoch 49/150\n",
            "\u001b[1m8/8\u001b[0m \u001b[32m━━━━━━━━━━━━━━━━━━━━\u001b[0m\u001b[37m\u001b[0m \u001b[1m0s\u001b[0m 9ms/step - accuracy: 0.9239 - loss: 0.2504 - val_accuracy: 1.0000 - val_loss: 0.1853\n",
            "Epoch 50/150\n",
            "\u001b[1m8/8\u001b[0m \u001b[32m━━━━━━━━━━━━━━━━━━━━\u001b[0m\u001b[37m\u001b[0m \u001b[1m0s\u001b[0m 9ms/step - accuracy: 0.9118 - loss: 0.2657 - val_accuracy: 1.0000 - val_loss: 0.1823\n",
            "Epoch 51/150\n",
            "\u001b[1m8/8\u001b[0m \u001b[32m━━━━━━━━━━━━━━━━━━━━\u001b[0m\u001b[37m\u001b[0m \u001b[1m0s\u001b[0m 8ms/step - accuracy: 0.9370 - loss: 0.2612 - val_accuracy: 1.0000 - val_loss: 0.1783\n",
            "Epoch 52/150\n",
            "\u001b[1m8/8\u001b[0m \u001b[32m━━━━━━━━━━━━━━━━━━━━\u001b[0m\u001b[37m\u001b[0m \u001b[1m0s\u001b[0m 8ms/step - accuracy: 0.9255 - loss: 0.2466 - val_accuracy: 1.0000 - val_loss: 0.1739\n",
            "Epoch 53/150\n",
            "\u001b[1m8/8\u001b[0m \u001b[32m━━━━━━━━━━━━━━━━━━━━\u001b[0m\u001b[37m\u001b[0m \u001b[1m0s\u001b[0m 6ms/step - accuracy: 0.8681 - loss: 0.2941 - val_accuracy: 1.0000 - val_loss: 0.1702\n",
            "Epoch 54/150\n",
            "\u001b[1m8/8\u001b[0m \u001b[32m━━━━━━━━━━━━━━━━━━━━\u001b[0m\u001b[37m\u001b[0m \u001b[1m0s\u001b[0m 6ms/step - accuracy: 0.9287 - loss: 0.2271 - val_accuracy: 1.0000 - val_loss: 0.1656\n",
            "Epoch 55/150\n",
            "\u001b[1m8/8\u001b[0m \u001b[32m━━━━━━━━━━━━━━━━━━━━\u001b[0m\u001b[37m\u001b[0m \u001b[1m0s\u001b[0m 6ms/step - accuracy: 0.9420 - loss: 0.2303 - val_accuracy: 1.0000 - val_loss: 0.1615\n",
            "Epoch 56/150\n",
            "\u001b[1m8/8\u001b[0m \u001b[32m━━━━━━━━━━━━━━━━━━━━\u001b[0m\u001b[37m\u001b[0m \u001b[1m0s\u001b[0m 10ms/step - accuracy: 0.9363 - loss: 0.2280 - val_accuracy: 1.0000 - val_loss: 0.1581\n",
            "Epoch 57/150\n",
            "\u001b[1m8/8\u001b[0m \u001b[32m━━━━━━━━━━━━━━━━━━━━\u001b[0m\u001b[37m\u001b[0m \u001b[1m0s\u001b[0m 6ms/step - accuracy: 0.9068 - loss: 0.2727 - val_accuracy: 1.0000 - val_loss: 0.1542\n",
            "Epoch 58/150\n",
            "\u001b[1m8/8\u001b[0m \u001b[32m━━━━━━━━━━━━━━━━━━━━\u001b[0m\u001b[37m\u001b[0m \u001b[1m0s\u001b[0m 6ms/step - accuracy: 0.9174 - loss: 0.2499 - val_accuracy: 1.0000 - val_loss: 0.1506\n",
            "Epoch 59/150\n",
            "\u001b[1m8/8\u001b[0m \u001b[32m━━━━━━━━━━━━━━━━━━━━\u001b[0m\u001b[37m\u001b[0m \u001b[1m0s\u001b[0m 6ms/step - accuracy: 0.9595 - loss: 0.1904 - val_accuracy: 1.0000 - val_loss: 0.1468\n",
            "Epoch 60/150\n",
            "\u001b[1m8/8\u001b[0m \u001b[32m━━━━━━━━━━━━━━━━━━━━\u001b[0m\u001b[37m\u001b[0m \u001b[1m0s\u001b[0m 9ms/step - accuracy: 0.9383 - loss: 0.2140 - val_accuracy: 1.0000 - val_loss: 0.1435\n",
            "Epoch 61/150\n",
            "\u001b[1m8/8\u001b[0m \u001b[32m━━━━━━━━━━━━━━━━━━━━\u001b[0m\u001b[37m\u001b[0m \u001b[1m0s\u001b[0m 6ms/step - accuracy: 0.9047 - loss: 0.2459 - val_accuracy: 1.0000 - val_loss: 0.1406\n",
            "Epoch 62/150\n",
            "\u001b[1m8/8\u001b[0m \u001b[32m━━━━━━━━━━━━━━━━━━━━\u001b[0m\u001b[37m\u001b[0m \u001b[1m0s\u001b[0m 6ms/step - accuracy: 0.9333 - loss: 0.2024 - val_accuracy: 1.0000 - val_loss: 0.1371\n",
            "Epoch 63/150\n",
            "\u001b[1m8/8\u001b[0m \u001b[32m━━━━━━━━━━━━━━━━━━━━\u001b[0m\u001b[37m\u001b[0m \u001b[1m0s\u001b[0m 8ms/step - accuracy: 0.9078 - loss: 0.2664 - val_accuracy: 1.0000 - val_loss: 0.1348\n",
            "Epoch 64/150\n",
            "\u001b[1m8/8\u001b[0m \u001b[32m━━━━━━━━━━━━━━━━━━━━\u001b[0m\u001b[37m\u001b[0m \u001b[1m0s\u001b[0m 8ms/step - accuracy: 0.9230 - loss: 0.2528 - val_accuracy: 1.0000 - val_loss: 0.1319\n",
            "Epoch 65/150\n",
            "\u001b[1m8/8\u001b[0m \u001b[32m━━━━━━━━━━━━━━━━━━━━\u001b[0m\u001b[37m\u001b[0m \u001b[1m0s\u001b[0m 10ms/step - accuracy: 0.9320 - loss: 0.2098 - val_accuracy: 1.0000 - val_loss: 0.1290\n",
            "Epoch 66/150\n",
            "\u001b[1m8/8\u001b[0m \u001b[32m━━━━━━━━━━━━━━━━━━━━\u001b[0m\u001b[37m\u001b[0m \u001b[1m0s\u001b[0m 7ms/step - accuracy: 0.9224 - loss: 0.2141 - val_accuracy: 1.0000 - val_loss: 0.1267\n",
            "Epoch 67/150\n",
            "\u001b[1m8/8\u001b[0m \u001b[32m━━━━━━━━━━━━━━━━━━━━\u001b[0m\u001b[37m\u001b[0m \u001b[1m0s\u001b[0m 6ms/step - accuracy: 0.9429 - loss: 0.1821 - val_accuracy: 1.0000 - val_loss: 0.1236\n",
            "Epoch 68/150\n",
            "\u001b[1m8/8\u001b[0m \u001b[32m━━━━━━━━━━━━━━━━━━━━\u001b[0m\u001b[37m\u001b[0m \u001b[1m0s\u001b[0m 6ms/step - accuracy: 0.9285 - loss: 0.2103 - val_accuracy: 1.0000 - val_loss: 0.1211\n",
            "Epoch 69/150\n",
            "\u001b[1m8/8\u001b[0m \u001b[32m━━━━━━━━━━━━━━━━━━━━\u001b[0m\u001b[37m\u001b[0m \u001b[1m0s\u001b[0m 8ms/step - accuracy: 0.9445 - loss: 0.1975 - val_accuracy: 1.0000 - val_loss: 0.1190\n",
            "Epoch 70/150\n",
            "\u001b[1m8/8\u001b[0m \u001b[32m━━━━━━━━━━━━━━━━━━━━\u001b[0m\u001b[37m\u001b[0m \u001b[1m0s\u001b[0m 6ms/step - accuracy: 0.8967 - loss: 0.2391 - val_accuracy: 1.0000 - val_loss: 0.1158\n",
            "Epoch 71/150\n",
            "\u001b[1m8/8\u001b[0m \u001b[32m━━━━━━━━━━━━━━━━━━━━\u001b[0m\u001b[37m\u001b[0m \u001b[1m0s\u001b[0m 6ms/step - accuracy: 0.9256 - loss: 0.2264 - val_accuracy: 1.0000 - val_loss: 0.1138\n",
            "Epoch 72/150\n",
            "\u001b[1m8/8\u001b[0m \u001b[32m━━━━━━━━━━━━━━━━━━━━\u001b[0m\u001b[37m\u001b[0m \u001b[1m0s\u001b[0m 9ms/step - accuracy: 0.9483 - loss: 0.1604 - val_accuracy: 1.0000 - val_loss: 0.1112\n",
            "Epoch 73/150\n",
            "\u001b[1m8/8\u001b[0m \u001b[32m━━━━━━━━━━━━━━━━━━━━\u001b[0m\u001b[37m\u001b[0m \u001b[1m0s\u001b[0m 6ms/step - accuracy: 0.8925 - loss: 0.2247 - val_accuracy: 1.0000 - val_loss: 0.1086\n",
            "Epoch 74/150\n",
            "\u001b[1m8/8\u001b[0m \u001b[32m━━━━━━━━━━━━━━━━━━━━\u001b[0m\u001b[37m\u001b[0m \u001b[1m0s\u001b[0m 7ms/step - accuracy: 0.9288 - loss: 0.2025 - val_accuracy: 1.0000 - val_loss: 0.1064\n",
            "Epoch 75/150\n",
            "\u001b[1m8/8\u001b[0m \u001b[32m━━━━━━━━━━━━━━━━━━━━\u001b[0m\u001b[37m\u001b[0m \u001b[1m0s\u001b[0m 9ms/step - accuracy: 0.9470 - loss: 0.1826 - val_accuracy: 1.0000 - val_loss: 0.1048\n",
            "Epoch 76/150\n",
            "\u001b[1m8/8\u001b[0m \u001b[32m━━━━━━━━━━━━━━━━━━━━\u001b[0m\u001b[37m\u001b[0m \u001b[1m0s\u001b[0m 6ms/step - accuracy: 0.9194 - loss: 0.2135 - val_accuracy: 1.0000 - val_loss: 0.1014\n",
            "Epoch 77/150\n",
            "\u001b[1m8/8\u001b[0m \u001b[32m━━━━━━━━━━━━━━━━━━━━\u001b[0m\u001b[37m\u001b[0m \u001b[1m0s\u001b[0m 6ms/step - accuracy: 0.9290 - loss: 0.1962 - val_accuracy: 1.0000 - val_loss: 0.1003\n",
            "Epoch 78/150\n",
            "\u001b[1m8/8\u001b[0m \u001b[32m━━━━━━━━━━━━━━━━━━━━\u001b[0m\u001b[37m\u001b[0m \u001b[1m0s\u001b[0m 9ms/step - accuracy: 0.9495 - loss: 0.1893 - val_accuracy: 1.0000 - val_loss: 0.0982\n",
            "Epoch 79/150\n",
            "\u001b[1m8/8\u001b[0m \u001b[32m━━━━━━━━━━━━━━━━━━━━\u001b[0m\u001b[37m\u001b[0m \u001b[1m0s\u001b[0m 6ms/step - accuracy: 0.9332 - loss: 0.1927 - val_accuracy: 1.0000 - val_loss: 0.0959\n",
            "Epoch 80/150\n",
            "\u001b[1m8/8\u001b[0m \u001b[32m━━━━━━━━━━━━━━━━━━━━\u001b[0m\u001b[37m\u001b[0m \u001b[1m0s\u001b[0m 6ms/step - accuracy: 0.9441 - loss: 0.1877 - val_accuracy: 1.0000 - val_loss: 0.0939\n",
            "Epoch 81/150\n",
            "\u001b[1m8/8\u001b[0m \u001b[32m━━━━━━━━━━━━━━━━━━━━\u001b[0m\u001b[37m\u001b[0m \u001b[1m0s\u001b[0m 6ms/step - accuracy: 0.9293 - loss: 0.1993 - val_accuracy: 1.0000 - val_loss: 0.0924\n",
            "Epoch 82/150\n",
            "\u001b[1m8/8\u001b[0m \u001b[32m━━━━━━━━━━━━━━━━━━━━\u001b[0m\u001b[37m\u001b[0m \u001b[1m0s\u001b[0m 9ms/step - accuracy: 0.9367 - loss: 0.1904 - val_accuracy: 1.0000 - val_loss: 0.0912\n",
            "Epoch 83/150\n",
            "\u001b[1m8/8\u001b[0m \u001b[32m━━━━━━━━━━━━━━━━━━━━\u001b[0m\u001b[37m\u001b[0m \u001b[1m0s\u001b[0m 7ms/step - accuracy: 0.9474 - loss: 0.2145 - val_accuracy: 1.0000 - val_loss: 0.0896\n",
            "Epoch 84/150\n",
            "\u001b[1m8/8\u001b[0m \u001b[32m━━━━━━━━━━━━━━━━━━━━\u001b[0m\u001b[37m\u001b[0m \u001b[1m0s\u001b[0m 6ms/step - accuracy: 0.9274 - loss: 0.1763 - val_accuracy: 1.0000 - val_loss: 0.0887\n",
            "Epoch 85/150\n",
            "\u001b[1m8/8\u001b[0m \u001b[32m━━━━━━━━━━━━━━━━━━━━\u001b[0m\u001b[37m\u001b[0m \u001b[1m0s\u001b[0m 6ms/step - accuracy: 0.9205 - loss: 0.1828 - val_accuracy: 1.0000 - val_loss: 0.0866\n",
            "Epoch 86/150\n",
            "\u001b[1m8/8\u001b[0m \u001b[32m━━━━━━━━━━━━━━━━━━━━\u001b[0m\u001b[37m\u001b[0m \u001b[1m0s\u001b[0m 9ms/step - accuracy: 0.9657 - loss: 0.1672 - val_accuracy: 1.0000 - val_loss: 0.0858\n",
            "Epoch 87/150\n",
            "\u001b[1m8/8\u001b[0m \u001b[32m━━━━━━━━━━━━━━━━━━━━\u001b[0m\u001b[37m\u001b[0m \u001b[1m0s\u001b[0m 6ms/step - accuracy: 0.9487 - loss: 0.1457 - val_accuracy: 1.0000 - val_loss: 0.0848\n",
            "Epoch 88/150\n",
            "\u001b[1m8/8\u001b[0m \u001b[32m━━━━━━━━━━━━━━━━━━━━\u001b[0m\u001b[37m\u001b[0m \u001b[1m0s\u001b[0m 12ms/step - accuracy: 0.9621 - loss: 0.1505 - val_accuracy: 1.0000 - val_loss: 0.0831\n",
            "Epoch 89/150\n",
            "\u001b[1m8/8\u001b[0m \u001b[32m━━━━━━━━━━━━━━━━━━━━\u001b[0m\u001b[37m\u001b[0m \u001b[1m0s\u001b[0m 12ms/step - accuracy: 0.9298 - loss: 0.1664 - val_accuracy: 1.0000 - val_loss: 0.0813\n",
            "Epoch 90/150\n",
            "\u001b[1m8/8\u001b[0m \u001b[32m━━━━━━━━━━━━━━━━━━━━\u001b[0m\u001b[37m\u001b[0m \u001b[1m0s\u001b[0m 12ms/step - accuracy: 0.9373 - loss: 0.1924 - val_accuracy: 1.0000 - val_loss: 0.0802\n",
            "Epoch 91/150\n",
            "\u001b[1m8/8\u001b[0m \u001b[32m━━━━━━━━━━━━━━━━━━━━\u001b[0m\u001b[37m\u001b[0m \u001b[1m0s\u001b[0m 13ms/step - accuracy: 0.9214 - loss: 0.2057 - val_accuracy: 1.0000 - val_loss: 0.0793\n",
            "Epoch 92/150\n",
            "\u001b[1m8/8\u001b[0m \u001b[32m━━━━━━━━━━━━━━━━━━━━\u001b[0m\u001b[37m\u001b[0m \u001b[1m0s\u001b[0m 11ms/step - accuracy: 0.9513 - loss: 0.1625 - val_accuracy: 1.0000 - val_loss: 0.0778\n",
            "Epoch 93/150\n",
            "\u001b[1m8/8\u001b[0m \u001b[32m━━━━━━━━━━━━━━━━━━━━\u001b[0m\u001b[37m\u001b[0m \u001b[1m0s\u001b[0m 12ms/step - accuracy: 0.9398 - loss: 0.1659 - val_accuracy: 1.0000 - val_loss: 0.0771\n",
            "Epoch 94/150\n",
            "\u001b[1m8/8\u001b[0m \u001b[32m━━━━━━━━━━━━━━━━━━━━\u001b[0m\u001b[37m\u001b[0m \u001b[1m0s\u001b[0m 10ms/step - accuracy: 0.9246 - loss: 0.1805 - val_accuracy: 1.0000 - val_loss: 0.0759\n",
            "Epoch 95/150\n",
            "\u001b[1m8/8\u001b[0m \u001b[32m━━━━━━━━━━━━━━━━━━━━\u001b[0m\u001b[37m\u001b[0m \u001b[1m0s\u001b[0m 10ms/step - accuracy: 0.9564 - loss: 0.1661 - val_accuracy: 1.0000 - val_loss: 0.0750\n",
            "Epoch 96/150\n",
            "\u001b[1m8/8\u001b[0m \u001b[32m━━━━━━━━━━━━━━━━━━━━\u001b[0m\u001b[37m\u001b[0m \u001b[1m0s\u001b[0m 10ms/step - accuracy: 0.9582 - loss: 0.1370 - val_accuracy: 1.0000 - val_loss: 0.0737\n",
            "Epoch 97/150\n",
            "\u001b[1m8/8\u001b[0m \u001b[32m━━━━━━━━━━━━━━━━━━━━\u001b[0m\u001b[37m\u001b[0m \u001b[1m0s\u001b[0m 10ms/step - accuracy: 0.9395 - loss: 0.1882 - val_accuracy: 1.0000 - val_loss: 0.0733\n",
            "Epoch 98/150\n",
            "\u001b[1m8/8\u001b[0m \u001b[32m━━━━━━━━━━━━━━━━━━━━\u001b[0m\u001b[37m\u001b[0m \u001b[1m0s\u001b[0m 11ms/step - accuracy: 0.9394 - loss: 0.1761 - val_accuracy: 1.0000 - val_loss: 0.0719\n",
            "Epoch 99/150\n",
            "\u001b[1m8/8\u001b[0m \u001b[32m━━━━━━━━━━━━━━━━━━━━\u001b[0m\u001b[37m\u001b[0m \u001b[1m0s\u001b[0m 10ms/step - accuracy: 0.9689 - loss: 0.1383 - val_accuracy: 1.0000 - val_loss: 0.0701\n",
            "Epoch 100/150\n",
            "\u001b[1m8/8\u001b[0m \u001b[32m━━━━━━━━━━━━━━━━━━━━\u001b[0m\u001b[37m\u001b[0m \u001b[1m0s\u001b[0m 10ms/step - accuracy: 0.9620 - loss: 0.1529 - val_accuracy: 1.0000 - val_loss: 0.0692\n",
            "Epoch 101/150\n",
            "\u001b[1m8/8\u001b[0m \u001b[32m━━━━━━━━━━━━━━━━━━━━\u001b[0m\u001b[37m\u001b[0m \u001b[1m0s\u001b[0m 10ms/step - accuracy: 0.9542 - loss: 0.1373 - val_accuracy: 1.0000 - val_loss: 0.0682\n",
            "Epoch 102/150\n",
            "\u001b[1m8/8\u001b[0m \u001b[32m━━━━━━━━━━━━━━━━━━━━\u001b[0m\u001b[37m\u001b[0m \u001b[1m0s\u001b[0m 11ms/step - accuracy: 0.9293 - loss: 0.1917 - val_accuracy: 1.0000 - val_loss: 0.0670\n",
            "Epoch 103/150\n",
            "\u001b[1m8/8\u001b[0m \u001b[32m━━━━━━━━━━━━━━━━━━━━\u001b[0m\u001b[37m\u001b[0m \u001b[1m0s\u001b[0m 11ms/step - accuracy: 0.9582 - loss: 0.1257 - val_accuracy: 1.0000 - val_loss: 0.0651\n",
            "Epoch 104/150\n",
            "\u001b[1m8/8\u001b[0m \u001b[32m━━━━━━━━━━━━━━━━━━━━\u001b[0m\u001b[37m\u001b[0m \u001b[1m0s\u001b[0m 14ms/step - accuracy: 0.9389 - loss: 0.1483 - val_accuracy: 1.0000 - val_loss: 0.0637\n",
            "Epoch 105/150\n",
            "\u001b[1m8/8\u001b[0m \u001b[32m━━━━━━━━━━━━━━━━━━━━\u001b[0m\u001b[37m\u001b[0m \u001b[1m0s\u001b[0m 12ms/step - accuracy: 0.9339 - loss: 0.1623 - val_accuracy: 1.0000 - val_loss: 0.0631\n",
            "Epoch 106/150\n",
            "\u001b[1m8/8\u001b[0m \u001b[32m━━━━━━━━━━━━━━━━━━━━\u001b[0m\u001b[37m\u001b[0m \u001b[1m0s\u001b[0m 11ms/step - accuracy: 0.9402 - loss: 0.1578 - val_accuracy: 1.0000 - val_loss: 0.0625\n",
            "Epoch 107/150\n",
            "\u001b[1m8/8\u001b[0m \u001b[32m━━━━━━━━━━━━━━━━━━━━\u001b[0m\u001b[37m\u001b[0m \u001b[1m0s\u001b[0m 11ms/step - accuracy: 0.9580 - loss: 0.1386 - val_accuracy: 1.0000 - val_loss: 0.0614\n",
            "Epoch 108/150\n",
            "\u001b[1m8/8\u001b[0m \u001b[32m━━━━━━━━━━━━━━━━━━━━\u001b[0m\u001b[37m\u001b[0m \u001b[1m0s\u001b[0m 9ms/step - accuracy: 0.9534 - loss: 0.1615 - val_accuracy: 1.0000 - val_loss: 0.0603\n",
            "Epoch 109/150\n",
            "\u001b[1m8/8\u001b[0m \u001b[32m━━━━━━━━━━━━━━━━━━━━\u001b[0m\u001b[37m\u001b[0m \u001b[1m0s\u001b[0m 9ms/step - accuracy: 0.9509 - loss: 0.1597 - val_accuracy: 1.0000 - val_loss: 0.0587\n",
            "Epoch 110/150\n",
            "\u001b[1m8/8\u001b[0m \u001b[32m━━━━━━━━━━━━━━━━━━━━\u001b[0m\u001b[37m\u001b[0m \u001b[1m0s\u001b[0m 6ms/step - accuracy: 0.9548 - loss: 0.1273 - val_accuracy: 1.0000 - val_loss: 0.0572\n",
            "Epoch 111/150\n",
            "\u001b[1m8/8\u001b[0m \u001b[32m━━━━━━━━━━━━━━━━━━━━\u001b[0m\u001b[37m\u001b[0m \u001b[1m0s\u001b[0m 6ms/step - accuracy: 0.9378 - loss: 0.1483 - val_accuracy: 1.0000 - val_loss: 0.0562\n",
            "Epoch 112/150\n",
            "\u001b[1m8/8\u001b[0m \u001b[32m━━━━━━━━━━━━━━━━━━━━\u001b[0m\u001b[37m\u001b[0m \u001b[1m0s\u001b[0m 10ms/step - accuracy: 0.9715 - loss: 0.1208 - val_accuracy: 1.0000 - val_loss: 0.0553\n",
            "Epoch 113/150\n",
            "\u001b[1m8/8\u001b[0m \u001b[32m━━━━━━━━━━━━━━━━━━━━\u001b[0m\u001b[37m\u001b[0m \u001b[1m0s\u001b[0m 7ms/step - accuracy: 0.9635 - loss: 0.1196 - val_accuracy: 1.0000 - val_loss: 0.0544\n",
            "Epoch 114/150\n",
            "\u001b[1m8/8\u001b[0m \u001b[32m━━━━━━━━━━━━━━━━━━━━\u001b[0m\u001b[37m\u001b[0m \u001b[1m0s\u001b[0m 6ms/step - accuracy: 0.9660 - loss: 0.1389 - val_accuracy: 1.0000 - val_loss: 0.0545\n",
            "Epoch 115/150\n",
            "\u001b[1m8/8\u001b[0m \u001b[32m━━━━━━━━━━━━━━━━━━━━\u001b[0m\u001b[37m\u001b[0m \u001b[1m0s\u001b[0m 6ms/step - accuracy: 0.9363 - loss: 0.1577 - val_accuracy: 1.0000 - val_loss: 0.0534\n",
            "Epoch 116/150\n",
            "\u001b[1m8/8\u001b[0m \u001b[32m━━━━━━━━━━━━━━━━━━━━\u001b[0m\u001b[37m\u001b[0m \u001b[1m0s\u001b[0m 8ms/step - accuracy: 0.9509 - loss: 0.1447 - val_accuracy: 1.0000 - val_loss: 0.0520\n",
            "Epoch 117/150\n",
            "\u001b[1m8/8\u001b[0m \u001b[32m━━━━━━━━━━━━━━━━━━━━\u001b[0m\u001b[37m\u001b[0m \u001b[1m0s\u001b[0m 6ms/step - accuracy: 0.9676 - loss: 0.1090 - val_accuracy: 1.0000 - val_loss: 0.0510\n",
            "Epoch 118/150\n",
            "\u001b[1m8/8\u001b[0m \u001b[32m━━━━━━━━━━━━━━━━━━━━\u001b[0m\u001b[37m\u001b[0m \u001b[1m0s\u001b[0m 6ms/step - accuracy: 0.9566 - loss: 0.1747 - val_accuracy: 1.0000 - val_loss: 0.0503\n",
            "Epoch 119/150\n",
            "\u001b[1m8/8\u001b[0m \u001b[32m━━━━━━━━━━━━━━━━━━━━\u001b[0m\u001b[37m\u001b[0m \u001b[1m0s\u001b[0m 6ms/step - accuracy: 0.9495 - loss: 0.1459 - val_accuracy: 1.0000 - val_loss: 0.0494\n",
            "Epoch 120/150\n",
            "\u001b[1m8/8\u001b[0m \u001b[32m━━━━━━━━━━━━━━━━━━━━\u001b[0m\u001b[37m\u001b[0m \u001b[1m0s\u001b[0m 8ms/step - accuracy: 0.9886 - loss: 0.0872 - val_accuracy: 1.0000 - val_loss: 0.0483\n",
            "Epoch 121/150\n",
            "\u001b[1m8/8\u001b[0m \u001b[32m━━━━━━━━━━━━━━━━━━━━\u001b[0m\u001b[37m\u001b[0m \u001b[1m0s\u001b[0m 6ms/step - accuracy: 0.9090 - loss: 0.1996 - val_accuracy: 1.0000 - val_loss: 0.0477\n",
            "Epoch 122/150\n",
            "\u001b[1m8/8\u001b[0m \u001b[32m━━━━━━━━━━━━━━━━━━━━\u001b[0m\u001b[37m\u001b[0m \u001b[1m0s\u001b[0m 6ms/step - accuracy: 0.9616 - loss: 0.1066 - val_accuracy: 1.0000 - val_loss: 0.0477\n",
            "Epoch 123/150\n",
            "\u001b[1m8/8\u001b[0m \u001b[32m━━━━━━━━━━━━━━━━━━━━\u001b[0m\u001b[37m\u001b[0m \u001b[1m0s\u001b[0m 9ms/step - accuracy: 0.9585 - loss: 0.1102 - val_accuracy: 1.0000 - val_loss: 0.0479\n",
            "Epoch 124/150\n",
            "\u001b[1m8/8\u001b[0m \u001b[32m━━━━━━━━━━━━━━━━━━━━\u001b[0m\u001b[37m\u001b[0m \u001b[1m0s\u001b[0m 6ms/step - accuracy: 0.9652 - loss: 0.1245 - val_accuracy: 1.0000 - val_loss: 0.0474\n",
            "Epoch 125/150\n",
            "\u001b[1m8/8\u001b[0m \u001b[32m━━━━━━━━━━━━━━━━━━━━\u001b[0m\u001b[37m\u001b[0m \u001b[1m0s\u001b[0m 6ms/step - accuracy: 0.9565 - loss: 0.1372 - val_accuracy: 1.0000 - val_loss: 0.0463\n",
            "Epoch 126/150\n",
            "\u001b[1m8/8\u001b[0m \u001b[32m━━━━━━━━━━━━━━━━━━━━\u001b[0m\u001b[37m\u001b[0m \u001b[1m0s\u001b[0m 9ms/step - accuracy: 0.9562 - loss: 0.1302 - val_accuracy: 1.0000 - val_loss: 0.0453\n",
            "Epoch 127/150\n",
            "\u001b[1m8/8\u001b[0m \u001b[32m━━━━━━━━━━━━━━━━━━━━\u001b[0m\u001b[37m\u001b[0m \u001b[1m0s\u001b[0m 8ms/step - accuracy: 0.9581 - loss: 0.1293 - val_accuracy: 1.0000 - val_loss: 0.0448\n",
            "Epoch 128/150\n",
            "\u001b[1m8/8\u001b[0m \u001b[32m━━━━━━━━━━━━━━━━━━━━\u001b[0m\u001b[37m\u001b[0m \u001b[1m0s\u001b[0m 8ms/step - accuracy: 0.9643 - loss: 0.1830 - val_accuracy: 1.0000 - val_loss: 0.0445\n",
            "Epoch 129/150\n",
            "\u001b[1m8/8\u001b[0m \u001b[32m━━━━━━━━━━━━━━━━━━━━\u001b[0m\u001b[37m\u001b[0m \u001b[1m0s\u001b[0m 10ms/step - accuracy: 0.9783 - loss: 0.0924 - val_accuracy: 1.0000 - val_loss: 0.0439\n",
            "Epoch 130/150\n",
            "\u001b[1m8/8\u001b[0m \u001b[32m━━━━━━━━━━━━━━━━━━━━\u001b[0m\u001b[37m\u001b[0m \u001b[1m0s\u001b[0m 9ms/step - accuracy: 0.9604 - loss: 0.1162 - val_accuracy: 1.0000 - val_loss: 0.0436\n",
            "Epoch 131/150\n",
            "\u001b[1m8/8\u001b[0m \u001b[32m━━━━━━━━━━━━━━━━━━━━\u001b[0m\u001b[37m\u001b[0m \u001b[1m0s\u001b[0m 7ms/step - accuracy: 0.9087 - loss: 0.1677 - val_accuracy: 1.0000 - val_loss: 0.0425\n",
            "Epoch 132/150\n",
            "\u001b[1m8/8\u001b[0m \u001b[32m━━━━━━━━━━━━━━━━━━━━\u001b[0m\u001b[37m\u001b[0m \u001b[1m0s\u001b[0m 8ms/step - accuracy: 0.9671 - loss: 0.1218 - val_accuracy: 1.0000 - val_loss: 0.0422\n",
            "Epoch 133/150\n",
            "\u001b[1m8/8\u001b[0m \u001b[32m━━━━━━━━━━━━━━━━━━━━\u001b[0m\u001b[37m\u001b[0m \u001b[1m0s\u001b[0m 6ms/step - accuracy: 0.9437 - loss: 0.1425 - val_accuracy: 1.0000 - val_loss: 0.0416\n",
            "Epoch 134/150\n",
            "\u001b[1m8/8\u001b[0m \u001b[32m━━━━━━━━━━━━━━━━━━━━\u001b[0m\u001b[37m\u001b[0m \u001b[1m0s\u001b[0m 6ms/step - accuracy: 0.9555 - loss: 0.1400 - val_accuracy: 1.0000 - val_loss: 0.0416\n",
            "Epoch 135/150\n",
            "\u001b[1m8/8\u001b[0m \u001b[32m━━━━━━━━━━━━━━━━━━━━\u001b[0m\u001b[37m\u001b[0m \u001b[1m0s\u001b[0m 9ms/step - accuracy: 0.9662 - loss: 0.1257 - val_accuracy: 1.0000 - val_loss: 0.0414\n",
            "Epoch 136/150\n",
            "\u001b[1m8/8\u001b[0m \u001b[32m━━━━━━━━━━━━━━━━━━━━\u001b[0m\u001b[37m\u001b[0m \u001b[1m0s\u001b[0m 6ms/step - accuracy: 0.9599 - loss: 0.1041 - val_accuracy: 1.0000 - val_loss: 0.0404\n",
            "Epoch 137/150\n",
            "\u001b[1m8/8\u001b[0m \u001b[32m━━━━━━━━━━━━━━━━━━━━\u001b[0m\u001b[37m\u001b[0m \u001b[1m0s\u001b[0m 6ms/step - accuracy: 0.9435 - loss: 0.1904 - val_accuracy: 1.0000 - val_loss: 0.0398\n",
            "Epoch 138/150\n",
            "\u001b[1m8/8\u001b[0m \u001b[32m━━━━━━━━━━━━━━━━━━━━\u001b[0m\u001b[37m\u001b[0m \u001b[1m0s\u001b[0m 8ms/step - accuracy: 0.9575 - loss: 0.1325 - val_accuracy: 1.0000 - val_loss: 0.0392\n",
            "Epoch 139/150\n",
            "\u001b[1m8/8\u001b[0m \u001b[32m━━━━━━━━━━━━━━━━━━━━\u001b[0m\u001b[37m\u001b[0m \u001b[1m0s\u001b[0m 6ms/step - accuracy: 0.9646 - loss: 0.1308 - val_accuracy: 1.0000 - val_loss: 0.0392\n",
            "Epoch 140/150\n",
            "\u001b[1m8/8\u001b[0m \u001b[32m━━━━━━━━━━━━━━━━━━━━\u001b[0m\u001b[37m\u001b[0m \u001b[1m0s\u001b[0m 10ms/step - accuracy: 0.9548 - loss: 0.1267 - val_accuracy: 1.0000 - val_loss: 0.0389\n",
            "Epoch 141/150\n",
            "\u001b[1m8/8\u001b[0m \u001b[32m━━━━━━━━━━━━━━━━━━━━\u001b[0m\u001b[37m\u001b[0m \u001b[1m0s\u001b[0m 6ms/step - accuracy: 0.9408 - loss: 0.1293 - val_accuracy: 1.0000 - val_loss: 0.0384\n",
            "Epoch 142/150\n",
            "\u001b[1m8/8\u001b[0m \u001b[32m━━━━━━━━━━━━━━━━━━━━\u001b[0m\u001b[37m\u001b[0m \u001b[1m0s\u001b[0m 6ms/step - accuracy: 0.9727 - loss: 0.1216 - val_accuracy: 1.0000 - val_loss: 0.0378\n",
            "Epoch 143/150\n",
            "\u001b[1m8/8\u001b[0m \u001b[32m━━━━━━━━━━━━━━━━━━━━\u001b[0m\u001b[37m\u001b[0m \u001b[1m0s\u001b[0m 9ms/step - accuracy: 0.9764 - loss: 0.0815 - val_accuracy: 1.0000 - val_loss: 0.0367\n",
            "Epoch 144/150\n",
            "\u001b[1m8/8\u001b[0m \u001b[32m━━━━━━━━━━━━━━━━━━━━\u001b[0m\u001b[37m\u001b[0m \u001b[1m0s\u001b[0m 6ms/step - accuracy: 0.9478 - loss: 0.1411 - val_accuracy: 1.0000 - val_loss: 0.0364\n",
            "Epoch 145/150\n",
            "\u001b[1m8/8\u001b[0m \u001b[32m━━━━━━━━━━━━━━━━━━━━\u001b[0m\u001b[37m\u001b[0m \u001b[1m0s\u001b[0m 8ms/step - accuracy: 0.9682 - loss: 0.1236 - val_accuracy: 1.0000 - val_loss: 0.0364\n",
            "Epoch 146/150\n",
            "\u001b[1m8/8\u001b[0m \u001b[32m━━━━━━━━━━━━━━━━━━━━\u001b[0m\u001b[37m\u001b[0m \u001b[1m0s\u001b[0m 6ms/step - accuracy: 0.9453 - loss: 0.1297 - val_accuracy: 1.0000 - val_loss: 0.0361\n",
            "Epoch 147/150\n",
            "\u001b[1m8/8\u001b[0m \u001b[32m━━━━━━━━━━━━━━━━━━━━\u001b[0m\u001b[37m\u001b[0m \u001b[1m0s\u001b[0m 6ms/step - accuracy: 0.9484 - loss: 0.1271 - val_accuracy: 1.0000 - val_loss: 0.0355\n",
            "Epoch 148/150\n",
            "\u001b[1m8/8\u001b[0m \u001b[32m━━━━━━━━━━━━━━━━━━━━\u001b[0m\u001b[37m\u001b[0m \u001b[1m0s\u001b[0m 6ms/step - accuracy: 0.9462 - loss: 0.1430 - val_accuracy: 1.0000 - val_loss: 0.0346\n",
            "Epoch 149/150\n",
            "\u001b[1m8/8\u001b[0m \u001b[32m━━━━━━━━━━━━━━━━━━━━\u001b[0m\u001b[37m\u001b[0m \u001b[1m0s\u001b[0m 8ms/step - accuracy: 0.9557 - loss: 0.1261 - val_accuracy: 1.0000 - val_loss: 0.0339\n",
            "Epoch 150/150\n",
            "\u001b[1m8/8\u001b[0m \u001b[32m━━━━━━━━━━━━━━━━━━━━\u001b[0m\u001b[37m\u001b[0m \u001b[1m0s\u001b[0m 6ms/step - accuracy: 0.9606 - loss: 0.1172 - val_accuracy: 1.0000 - val_loss: 0.0335\n"
          ]
        }
      ],
      "source": [
        "# Latih model\n",
        "# history = model.fit(\n",
        "#     X_train, y_train,\n",
        "#     epochs=150,\n",
        "#     batch_size=32,\n",
        "#     validation_split=0.2,  # Gunakan 20% dari data latih untuk validasi\n",
        "#     callbacks=[early_stopping],\n",
        "#     verbose=1\n",
        "# )\n",
        "history = model.fit(\n",
        "    X_train, y_train,\n",
        "    epochs=150,\n",
        "    batch_size=32,\n",
        "    validation_data=(X_val, y_val),  # Using validation data\n",
        "    callbacks=[early_stopping],\n",
        "    verbose=1\n",
        ")"
      ]
    },
    {
      "cell_type": "markdown",
      "metadata": {
        "id": "i2pUUEboUWF5"
      },
      "source": [
        "#**Evaluate Model**"
      ]
    },
    {
      "cell_type": "code",
      "execution_count": null,
      "metadata": {
        "id": "UdcmpDoIfmsL",
        "colab": {
          "base_uri": "https://localhost:8080/"
        },
        "outputId": "a9f89a88-b060-460e-da05-0a2cecc651ab"
      },
      "outputs": [
        {
          "output_type": "stream",
          "name": "stdout",
          "text": [
            "\u001b[1m3/3\u001b[0m \u001b[32m━━━━━━━━━━━━━━━━━━━━\u001b[0m\u001b[37m\u001b[0m \u001b[1m0s\u001b[0m 22ms/step\n"
          ]
        }
      ],
      "source": [
        "# Evaluasi model pada data uji\n",
        "loss, accuracy = model.evaluate(X_test, y_test, verbose=0)\n",
        "y_pred_prob = model.predict(X_test)\n",
        "y_pred = (y_pred_prob > 0.5).astype(int)  # Ubah probabilitas menjadi 0 atau 1"
      ]
    },
    {
      "cell_type": "code",
      "execution_count": null,
      "metadata": {
        "id": "KA-NozDffmxW",
        "colab": {
          "base_uri": "https://localhost:8080/"
        },
        "outputId": "c9cb5223-e751-4287-8963-1575777b355b"
      },
      "outputs": [
        {
          "output_type": "stream",
          "name": "stdout",
          "text": [
            "\n",
            "Evaluasi pada data uji:\n",
            "Loss: 0.0232\n",
            "Accuracy: 100.00%\n"
          ]
        }
      ],
      "source": [
        "print(\"\\nEvaluasi pada data uji:\")\n",
        "print(f\"Loss: {loss:.4f}\")  # Tambahkan hasil loss\n",
        "print(f\"Accuracy: {accuracy * 100:.2f}%\")  # Akurasi model"
      ]
    },
    {
      "cell_type": "code",
      "execution_count": null,
      "metadata": {
        "id": "LNMz6xtNSbRB",
        "colab": {
          "base_uri": "https://localhost:8080/"
        },
        "outputId": "17a1d17e-bdc1-4fb2-c81e-71746bd48f9f"
      },
      "outputs": [
        {
          "output_type": "stream",
          "name": "stdout",
          "text": [
            "\n",
            "Classification Report:\n",
            "              precision    recall  f1-score   support\n",
            "\n",
            "           0       1.00      1.00      1.00        12\n",
            "           1       1.00      1.00      1.00        63\n",
            "\n",
            "    accuracy                           1.00        75\n",
            "   macro avg       1.00      1.00      1.00        75\n",
            "weighted avg       1.00      1.00      1.00        75\n",
            "\n"
          ]
        }
      ],
      "source": [
        "print(\"\\nClassification Report:\")\n",
        "print(classification_report(y_test, y_pred))"
      ]
    },
    {
      "cell_type": "code",
      "execution_count": null,
      "metadata": {
        "id": "JFiox0Q2fmz0",
        "colab": {
          "base_uri": "https://localhost:8080/"
        },
        "outputId": "f41892b5-217d-45e6-a8e2-72eaa2076a7f"
      },
      "outputs": [
        {
          "output_type": "stream",
          "name": "stdout",
          "text": [
            "\n",
            "Confusion Matrix:\n",
            "[[12  0]\n",
            " [ 0 63]]\n"
          ]
        }
      ],
      "source": [
        "print(\"\\nConfusion Matrix:\")\n",
        "print(confusion_matrix(y_test, y_pred))"
      ]
    },
    {
      "cell_type": "code",
      "execution_count": null,
      "metadata": {
        "id": "4rDIY9XetiuT",
        "colab": {
          "base_uri": "https://localhost:8080/",
          "height": 523
        },
        "outputId": "4f446137-f46d-4b5f-f39d-37c550d09ae7"
      },
      "outputs": [
        {
          "output_type": "stream",
          "name": "stdout",
          "text": [
            "Train Score - Loss: 0.0721, Accuracy: 0.9791\n",
            "Validation Score - Loss: 0.0335, Accuracy: 1.0000\n",
            "Test Score - Loss: 0.0232, Accuracy: 1.0000\n"
          ]
        },
        {
          "output_type": "display_data",
          "data": {
            "text/plain": [
              "<Figure size 800x500 with 1 Axes>"
            ],
            "image/png": "[encoded data removed]"
          },
          "metadata": {}
        }
      ],
      "source": [
        "from sklearn.model_selection import train_test_split\n",
        "# Evaluasi performa\n",
        "train_loss, train_accuracy = model.evaluate(X_train, y_train, verbose=0)\n",
        "val_loss, val_accuracy = model.evaluate(X_val, y_val, verbose=0)\n",
        "test_loss, test_accuracy = model.evaluate(X_test, y_test, verbose=0)\n",
        "\n",
        "# Print skor\n",
        "print(f\"Train Score - Loss: {train_loss:.4f}, Accuracy: {train_accuracy:.4f}\")\n",
        "print(f\"Validation Score - Loss: {val_loss:.4f}, Accuracy: {val_accuracy:.4f}\")\n",
        "print(f\"Test Score - Loss: {test_loss:.4f}, Accuracy: {test_accuracy:.4f}\")\n",
        "\n",
        "# Visualisasi\n",
        "scores = {\n",
        "    \"Train\": train_accuracy,\n",
        "    \"Validation\": val_accuracy,\n",
        "    \"Test\": test_accuracy,\n",
        "}\n",
        "\n",
        "plt.figure(figsize=(8, 5))\n",
        "plt.bar(scores.keys(), scores.values(), color=['skyblue', 'orange', 'green'])\n",
        "plt.title(\"Model Accuracy on Train, Validation, and Test Sets\")\n",
        "plt.ylabel(\"Accuracy\")\n",
        "plt.ylim(0, 1)  # Range accuracy tetap dari 0 hingga 1\n",
        "plt.show()\n"
      ]
    },
    {
      "cell_type": "markdown",
      "metadata": {
        "id": "u-tNK8-bUZEI"
      },
      "source": [
        "#**Visualisasi**"
      ]
    },
    {
      "cell_type": "code",
      "execution_count": null,
      "metadata": {
        "id": "aI44Gl_WoQXm",
        "colab": {
          "base_uri": "https://localhost:8080/",
          "height": 564
        },
        "outputId": "e79ffb57-eddd-483d-eb54-ee99d658bc03"
      },
      "outputs": [
        {
          "output_type": "display_data",
          "data": {
            "text/plain": [
              "<Figure size 600x600 with 2 Axes>"
            ],
            "image/png": "[encoded data removed]"
          },
          "metadata": {}
        }
      ],
      "source": [
        "cm = confusion_matrix(y_test, y_pred)\n",
        "\n",
        "# Visualisasi confusion matrix\n",
        "plt.figure(figsize=(6, 6))\n",
        "sns.heatmap(cm, annot=True, fmt='d', cmap='Blues', xticklabels=['Tidak Insomnia', 'Insomnia'], yticklabels=['Tidak Insomnia', 'Insomnia'])\n",
        "plt.title(\"Confusion Matrix\")\n",
        "plt.xlabel(\"Predicted Label\")\n",
        "plt.ylabel(\"True Label\")\n",
        "plt.show()"
      ]
    },
    {
      "cell_type": "code",
      "execution_count": null,
      "metadata": {
        "id": "SajpNFwmoQaV",
        "colab": {
          "base_uri": "https://localhost:8080/",
          "height": 564
        },
        "outputId": "7210127c-8100-4458-d135-c4485ddccf91"
      },
      "outputs": [
        {
          "output_type": "display_data",
          "data": {
            "text/plain": [
              "<Figure size 800x600 with 1 Axes>"
            ],
            "image/png": "[encoded data removed]"
          },
          "metadata": {}
        }
      ],
      "source": [
        "# Menghitung false positive rate, true positive rate, dan threshold\n",
        "fpr, tpr, thresholds = roc_curve(y_test, y_pred)\n",
        "roc_auc = auc(fpr, tpr)\n",
        "\n",
        "# Plot ROC curve\n",
        "plt.figure(figsize=(8, 6))\n",
        "plt.plot(fpr, tpr, color='blue', lw=2, label='ROC curve (area = %0.2f)' % roc_auc)\n",
        "plt.plot([0, 1], [0, 1], color='gray', linestyle='--')\n",
        "plt.xlim([0.0, 1.0])\n",
        "plt.ylim([0.0, 1.05])\n",
        "plt.xlabel('False Positive Rate')\n",
        "plt.ylabel('True Positive Rate')\n",
        "plt.title('Receiver Operating Characteristic')\n",
        "plt.legend(loc='lower right')\n",
        "plt.show()"
      ]
    },
    {
      "cell_type": "code",
      "execution_count": null,
      "metadata": {
        "id": "AhZwjwzgoQdU",
        "colab": {
          "base_uri": "https://localhost:8080/",
          "height": 564
        },
        "outputId": "fcf05a59-8461-4190-9bfc-3b1465d1d1a7"
      },
      "outputs": [
        {
          "output_type": "display_data",
          "data": {
            "text/plain": [
              "<Figure size 800x600 with 1 Axes>"
            ],
            "image/png": "[encoded data removed]"
          },
          "metadata": {}
        }
      ],
      "source": [
        "# Menghitung precision, recall dan threshold\n",
        "precision, recall, thresholds = precision_recall_curve(y_test, y_pred)\n",
        "\n",
        "# Plot Precision-Recall curve\n",
        "plt.figure(figsize=(8, 6))\n",
        "plt.plot(recall, precision, color='blue', lw=2)\n",
        "plt.xlabel('Recall')\n",
        "plt.ylabel('Precision')\n",
        "plt.title('Precision-Recall Curve')\n",
        "plt.show()"
      ]
    },
    {
      "cell_type": "code",
      "execution_count": null,
      "metadata": {
        "id": "VyfOgsTioQf-",
        "colab": {
          "base_uri": "https://localhost:8080/",
          "height": 402
        },
        "outputId": "97fcba3d-2c4c-4b53-a3c9-a4e8c35342b6"
      },
      "outputs": [
        {
          "output_type": "display_data",
          "data": {
            "text/plain": [
              "<Figure size 1200x600 with 2 Axes>"
            ],
            "image/png": "[encoded data removed]"
          },
          "metadata": {}
        }
      ],
      "source": [
        "# Plot Loss\n",
        "plt.figure(figsize=(12, 6))\n",
        "plt.subplot(1, 2, 1)\n",
        "plt.plot(history.history['loss'], label='Training Loss')\n",
        "plt.plot(history.history['val_loss'], label='Validation Loss')\n",
        "plt.title('Loss per Epoch')\n",
        "plt.xlabel('Epochs')\n",
        "plt.ylabel('Loss')\n",
        "plt.legend()\n",
        "\n",
        "# Plot Accuracy\n",
        "plt.subplot(1, 2, 2)\n",
        "plt.plot(history.history['accuracy'], label='Training Accuracy')\n",
        "plt.plot(history.history['val_accuracy'], label='Validation Accuracy')\n",
        "plt.title('Accuracy per Epoch')\n",
        "plt.xlabel('Epochs')\n",
        "plt.ylabel('Accuracy')\n",
        "plt.legend()\n",
        "\n",
        "plt.tight_layout()\n",
        "plt.show()"
      ]
    },
    {
      "cell_type": "markdown",
      "metadata": {
        "id": "xuL_VcKRrAo1"
      },
      "source": [
        "#**Model Tuning**"
      ]
    },
    {
      "cell_type": "markdown",
      "metadata": {
        "id": "HnpO_HFnV29P"
      },
      "source": [
        "Using Hyperparameter Tuning"
      ]
    },
    {
      "cell_type": "code",
      "execution_count": null,
      "metadata": {
        "id": "Zh22uHrbUHXa"
      },
      "outputs": [],
      "source": [
        "# Define a function to create the model with different hyperparameters\n",
        "def create_model(optimizer='adam', hidden_layers=2, units_per_layer=64):\n",
        "    model = Sequential()\n",
        "    model.add(Dense(units_per_layer, input_dim=X_train.shape[1], activation='relu'))\n",
        "\n",
        "    # Add hidden layers based on input\n",
        "    for _ in range(hidden_layers - 1):\n",
        "        model.add(Dense(units_per_layer, activation='relu'))\n",
        "\n",
        "    # Output layer\n",
        "    model.add(Dense(1, activation='sigmoid'))\n",
        "\n",
        "    # Compile the model with the given optimizer\n",
        "    model.compile(optimizer=optimizer, loss='binary_crossentropy', metrics=['accuracy'])\n",
        "    return model"
      ]
    },
    {
      "cell_type": "code",
      "execution_count": null,
      "metadata": {
        "id": "YeFHWDNgVauk"
      },
      "outputs": [],
      "source": [
        "# Manually define hyperparameters to tune\n",
        "optimizers =['sgd']\n",
        "hidden_layers = [2, 3]\n",
        "units_per_layer = [64, 128]"
      ]
    },
    {
      "cell_type": "code",
      "execution_count": null,
      "metadata": {
        "id": "yBkMdKpnVdBX"
      },
      "outputs": [],
      "source": [
        "# Train models for each combination of hyperparameters\n",
        "best_accuracy = 0\n",
        "best_model = None\n",
        "best_params = {}"
      ]
    },
    {
      "cell_type": "code",
      "execution_count": null,
      "metadata": {
        "id": "kU7ZUe20VhBY",
        "colab": {
          "base_uri": "https://localhost:8080/"
        },
        "outputId": "00342af5-7d79-4442-d210-7f5d8ca97002"
      },
      "outputs": [
        {
          "output_type": "stream",
          "name": "stdout",
          "text": [
            "Training model with optimizer=sgd, hidden_layers=2, units_per_layer=64\n"
          ]
        },
        {
          "output_type": "stream",
          "name": "stderr",
          "text": [
            "/usr/local/lib/python3.10/dist-packages/keras/src/layers/core/dense.py:87: UserWarning: Do not pass an `input_shape`/`input_dim` argument to a layer. When using Sequential models, prefer using an `Input(shape)` object as the first layer in the model instead.\n",
            "  super().__init__(activity_regularizer=activity_regularizer, **kwargs)\n"
          ]
        },
        {
          "output_type": "stream",
          "name": "stdout",
          "text": [
            "\u001b[1m3/3\u001b[0m \u001b[32m━━━━━━━━━━━━━━━━━━━━\u001b[0m\u001b[37m\u001b[0m \u001b[1m0s\u001b[0m 19ms/step\n",
            "Training model with optimizer=sgd, hidden_layers=2, units_per_layer=128\n"
          ]
        },
        {
          "output_type": "stream",
          "name": "stderr",
          "text": [
            "/usr/local/lib/python3.10/dist-packages/keras/src/layers/core/dense.py:87: UserWarning: Do not pass an `input_shape`/`input_dim` argument to a layer. When using Sequential models, prefer using an `Input(shape)` object as the first layer in the model instead.\n",
            "  super().__init__(activity_regularizer=activity_regularizer, **kwargs)\n",
            "WARNING:tensorflow:5 out of the last 7 calls to <function TensorFlowTrainer.make_predict_function.<locals>.one_step_on_data_distributed at 0x7dbb8d9cca60> triggered tf.function retracing. Tracing is expensive and the excessive number of tracings could be due to (1) creating @tf.function repeatedly in a loop, (2) passing tensors with different shapes, (3) passing Python objects instead of tensors. For (1), please define your @tf.function outside of the loop. For (2), @tf.function has reduce_retracing=True option that can avoid unnecessary retracing. For (3), please refer to https://www.tensorflow.org/guide/function#controlling_retracing and https://www.tensorflow.org/api_docs/python/tf/function for  more details.\n"
          ]
        },
        {
          "output_type": "stream",
          "name": "stdout",
          "text": [
            "\r\u001b[1m1/3\u001b[0m \u001b[32m━━━━━━\u001b[0m\u001b[37m━━━━━━━━━━━━━━\u001b[0m \u001b[1m0s\u001b[0m 50ms/step"
          ]
        },
        {
          "output_type": "stream",
          "name": "stderr",
          "text": [
            "WARNING:tensorflow:6 out of the last 9 calls to <function TensorFlowTrainer.make_predict_function.<locals>.one_step_on_data_distributed at 0x7dbb8d9cca60> triggered tf.function retracing. Tracing is expensive and the excessive number of tracings could be due to (1) creating @tf.function repeatedly in a loop, (2) passing tensors with different shapes, (3) passing Python objects instead of tensors. For (1), please define your @tf.function outside of the loop. For (2), @tf.function has reduce_retracing=True option that can avoid unnecessary retracing. For (3), please refer to https://www.tensorflow.org/guide/function#controlling_retracing and https://www.tensorflow.org/api_docs/python/tf/function for  more details.\n"
          ]
        },
        {
          "output_type": "stream",
          "name": "stdout",
          "text": [
            "\b\b\b\b\b\b\b\b\b\b\b\b\b\b\b\b\b\b\b\b\b\b\b\b\b\b\b\b\b\b\b\b\b\b\b\b\b\r\u001b[1m3/3\u001b[0m \u001b[32m━━━━━━━━━━━━━━━━━━━━\u001b[0m\u001b[37m\u001b[0m \u001b[1m0s\u001b[0m 21ms/step\n"
          ]
        },
        {
          "output_type": "stream",
          "name": "stderr",
          "text": [
            "/usr/local/lib/python3.10/dist-packages/keras/src/layers/core/dense.py:87: UserWarning: Do not pass an `input_shape`/`input_dim` argument to a layer. When using Sequential models, prefer using an `Input(shape)` object as the first layer in the model instead.\n",
            "  super().__init__(activity_regularizer=activity_regularizer, **kwargs)\n"
          ]
        },
        {
          "output_type": "stream",
          "name": "stdout",
          "text": [
            "Training model with optimizer=sgd, hidden_layers=3, units_per_layer=64\n",
            "\u001b[1m3/3\u001b[0m \u001b[32m━━━━━━━━━━━━━━━━━━━━\u001b[0m\u001b[37m\u001b[0m \u001b[1m0s\u001b[0m 23ms/step\n",
            "Training model with optimizer=sgd, hidden_layers=3, units_per_layer=128\n"
          ]
        },
        {
          "output_type": "stream",
          "name": "stderr",
          "text": [
            "/usr/local/lib/python3.10/dist-packages/keras/src/layers/core/dense.py:87: UserWarning: Do not pass an `input_shape`/`input_dim` argument to a layer. When using Sequential models, prefer using an `Input(shape)` object as the first layer in the model instead.\n",
            "  super().__init__(activity_regularizer=activity_regularizer, **kwargs)\n"
          ]
        },
        {
          "output_type": "stream",
          "name": "stdout",
          "text": [
            "\u001b[1m3/3\u001b[0m \u001b[32m━━━━━━━━━━━━━━━━━━━━\u001b[0m\u001b[37m\u001b[0m \u001b[1m0s\u001b[0m 22ms/step\n"
          ]
        }
      ],
      "source": [
        "for optimizer in optimizers:\n",
        "    for layers in hidden_layers:\n",
        "        for units in units_per_layer:\n",
        "            print(f\"Training model with optimizer={optimizer}, hidden_layers={layers}, units_per_layer={units}\")\n",
        "\n",
        "            # Create model with the current hyperparameters\n",
        "            model = create_model(optimizer=optimizer, hidden_layers=layers, units_per_layer=units)\n",
        "\n",
        "            # Train the model\n",
        "            model.fit(X_train, y_train, epochs=50, batch_size=32, verbose=0)\n",
        "\n",
        "            # Evaluate the model\n",
        "            y_pred = (model.predict(X_test) > 0.5).astype(\"int32\")\n",
        "            accuracy = accuracy_score(y_test, y_pred)\n",
        "\n",
        "            # Update the best model if necessary\n",
        "            if accuracy > best_accuracy:\n",
        "                best_accuracy = accuracy\n",
        "                best_model = model\n",
        "                best_params = {'optimizer': optimizer, 'hidden_layers': layers, 'units_per_layer': units}"
      ]
    },
    {
      "cell_type": "code",
      "execution_count": null,
      "metadata": {
        "id": "EOHfeb6FVkFO",
        "colab": {
          "base_uri": "https://localhost:8080/"
        },
        "outputId": "e6bb9623-e176-4533-a112-c2c1f4846d07"
      },
      "outputs": [
        {
          "output_type": "stream",
          "name": "stdout",
          "text": [
            "Best Model Parameters: {'optimizer': 'sgd', 'hidden_layers': 2, 'units_per_layer': 64}\n",
            "Best Model Accuracy: 1.0\n"
          ]
        }
      ],
      "source": [
        "print(\"Best Model Parameters:\", best_params)\n",
        "print(\"Best Model Accuracy:\", best_accuracy)"
      ]
    },
    {
      "cell_type": "markdown",
      "metadata": {
        "id": "kN_7N9mPV7iX"
      },
      "source": [
        "Evaluate the Best Model"
      ]
    },
    {
      "cell_type": "code",
      "execution_count": null,
      "metadata": {
        "id": "QWicsg5YV-fM",
        "colab": {
          "base_uri": "https://localhost:8080/"
        },
        "outputId": "a12b0d4e-09ce-44a2-d586-35173a953f2c"
      },
      "outputs": [
        {
          "output_type": "stream",
          "name": "stdout",
          "text": [
            "\u001b[1m3/3\u001b[0m \u001b[32m━━━━━━━━━━━━━━━━━━━━\u001b[0m\u001b[37m\u001b[0m \u001b[1m0s\u001b[0m 3ms/step \n",
            "Classification Report:\n",
            "              precision    recall  f1-score   support\n",
            "\n",
            "           0       1.00      1.00      1.00        12\n",
            "           1       1.00      1.00      1.00        63\n",
            "\n",
            "    accuracy                           1.00        75\n",
            "   macro avg       1.00      1.00      1.00        75\n",
            "weighted avg       1.00      1.00      1.00        75\n",
            "\n",
            "Accuracy for Best Model: 1.0000\n"
          ]
        }
      ],
      "source": [
        "# Evaluate the best model on the test set\n",
        "y_pred_best = (best_model.predict(X_test) > 0.5).astype(\"int32\")\n",
        "\n",
        "# Classification report and accuracy\n",
        "print(\"Classification Report:\")\n",
        "print(classification_report(y_test, y_pred_best))\n",
        "\n",
        "# print(\"Accuracy:\", accuracy_score(y_test, y_pred_best))\n",
        "print(f\"Accuracy for Best Model: {accuracy_score(y_test, y_pred_best):.4f}\")"
      ]
    },
    {
      "cell_type": "markdown",
      "metadata": {
        "id": "wiEMZKHjWGOo"
      },
      "source": [
        "Visualisasi menggunakan Confusion Matrix"
      ]
    },
    {
      "cell_type": "code",
      "execution_count": null,
      "metadata": {
        "id": "Y1UJ05GJWFYe",
        "colab": {
          "base_uri": "https://localhost:8080/",
          "height": 487
        },
        "outputId": "9d2f0fdb-c62b-45f8-ae25-2479f594277a"
      },
      "outputs": [
        {
          "output_type": "display_data",
          "data": {
            "text/plain": [
              "<Figure size 600x500 with 2 Axes>"
            ],
            "image/png": "[encoded data removed]"
          },
          "metadata": {}
        }
      ],
      "source": [
        "# Generate confusion matrix\n",
        "conf_matrix = confusion_matrix(y_test, y_pred_best)\n",
        "\n",
        "# Visualize the confusion matrix\n",
        "plt.figure(figsize=(6, 5))\n",
        "sns.heatmap(conf_matrix, annot=True, fmt='d', cmap='Blues', xticklabels=['No Insomnia', 'Insomnia'], yticklabels=['No Insomnia', 'Insomnia'])\n",
        "plt.title('Confusion Matrix')\n",
        "plt.xlabel('Predicted')\n",
        "plt.ylabel('Actual')\n",
        "plt.show()"
      ]
    },
    {
      "cell_type": "code",
      "execution_count": null,
      "metadata": {
        "id": "zC479F97Aa0_",
        "colab": {
          "base_uri": "https://localhost:8080/"
        },
        "outputId": "fbc7f434-a6b2-449f-e9db-2f3d54389c11"
      },
      "outputs": [
        {
          "output_type": "stream",
          "name": "stdout",
          "text": [
            "Survei Deteksi Insomnia\n",
            "Pilih jenis kelamin Anda (Laki-laki/Perempuan): perempuan\n",
            "Pada skala 1-10, seberapa tinggi tingkat stres Anda? (1 tidak stres, 10 sangat stres): 1\n",
            "Berapa jam tidur Anda setiap malam? 1\n",
            "Pada skala 1-10, bagaimana kualitas tidur Anda? (1 sangat buruk, 10 sangat baik): 1\n",
            "\u001b[1m1/1\u001b[0m \u001b[32m━━━━━━━━━━━━━━━━━━━━\u001b[0m\u001b[37m\u001b[0m \u001b[1m0s\u001b[0m 19ms/step\n",
            "\n",
            "Hasil Prediksi Insomnia:\n",
            "Anda kemungkinan besar mengalami insomnia.\n"
          ]
        }
      ],
      "source": [
        "import numpy as np\n",
        "\n",
        "# Pertanyaan Survei berdasarkan fitur yang relevan\n",
        "print(\"Survei Deteksi Insomnia\")\n",
        "\n",
        "# Pertanyaan untuk setiap fitur relevan\n",
        "gender = input(\"Pilih jenis kelamin Anda (Laki-laki/Perempuan): \").lower()\n",
        "stress_level = float(input(\"Pada skala 1-10, seberapa tinggi tingkat stres Anda? (1 tidak stres, 10 sangat stres): \"))\n",
        "sleep_duration = float(input(\"Berapa jam tidur Anda setiap malam? \"))\n",
        "quality_of_sleep = float(input(\"Pada skala 1-10, bagaimana kualitas tidur Anda? (1 sangat buruk, 10 sangat baik): \"))\n",
        "\n",
        "\n",
        "# Mempersiapkan data input untuk model\n",
        "# Pastikan Anda memiliki cara untuk mengubah 'Gender' menjadi angka (misalnya, Laki-laki=0, Perempuan=1)\n",
        "gender = 0 if gender == \"laki-laki\" else 1\n",
        "\n",
        "# Membuat input yang sesuai dengan urutan fitur yang telah dipilih\n",
        "X_survey = np.array([[gender, stress_level, sleep_duration, quality_of_sleep]])\n",
        "\n",
        "# Prediksi dengan model\n",
        "y_pred = model.predict(X_survey)\n",
        "\n",
        "# Menampilkan hasil prediksi\n",
        "print(\"\\nHasil Prediksi Insomnia:\")\n",
        "if y_pred > 0.5:\n",
        "    print(\"Anda kemungkinan besar mengalami insomnia.\")\n",
        "else:\n",
        "    print(\"Anda tidak menunjukkan gejala insomnia yang signifikan.\")\n"
      ]
    },
    {
      "cell_type": "markdown",
      "metadata": {
        "id": "1r8nWHMnrflZ"
      },
      "source": [
        "#**Model Deployment**"
      ]
    },
    {
      "cell_type": "code",
      "execution_count": null,
      "metadata": {
        "id": "JqRTdd-5Xlft",
        "colab": {
          "base_uri": "https://localhost:8080/"
        },
        "outputId": "8023d98e-8d46-4d1c-c789-3838b06d3832"
      },
      "outputs": [
        {
          "output_type": "stream",
          "name": "stderr",
          "text": [
            "WARNING:absl:You are saving your model as an HDF5 file via `model.save()` or `keras.saving.save_model(model)`. This file format is considered legacy. We recommend using instead the native Keras format, e.g. `model.save('my_model.keras')` or `keras.saving.save_model(model, 'my_model.keras')`. \n"
          ]
        }
      ],
      "source": [
        "# # Menyimpan model menggunakan format HDF5 (.h5)\n",
        "# model.save('best_insomnia_model.h5')\n",
        "# Save the model in .Pkeras format (Make sure it saves correctly)\n",
        "model.save('insomnia_model.h5')\n"
      ]
    },
    {
      "cell_type": "code",
      "execution_count": null,
      "metadata": {
        "id": "W8_y_y7YrPJY"
      },
      "outputs": [],
      "source": [
        "# import tensorflow as tf\n",
        "\n",
        "# model = tf.keras.models.load_model('best_insomnia_model.h5')\n",
        "# converter = tf.lite.TFLiteConverter.from_keras_model(model)\n",
        "# tflite_model = converter.convert()\n",
        "# open(\"best_insomnia_model.tflite\", \"wb\").write(tflite_model)"
      ]
    },
    {
      "cell_type": "code",
      "execution_count": null,
      "metadata": {
        "id": "q19sHt7Ery-v",
        "colab": {
          "base_uri": "https://localhost:8080/"
        },
        "outputId": "c5be2edf-d0e3-4d3f-b59e-c8be30472039"
      },
      "outputs": [
        {
          "output_type": "stream",
          "name": "stderr",
          "text": [
            "WARNING:absl:Compiled the loaded model, but the compiled metrics have yet to be built. `model.compile_metrics` will be empty until you train or evaluate the model.\n"
          ]
        },
        {
          "output_type": "stream",
          "name": "stdout",
          "text": [
            "Saved artifact at '/tmp/tmpuraahp2h'. The following endpoints are available:\n",
            "\n",
            "* Endpoint 'serve'\n",
            "  args_0 (POSITIONAL_ONLY): TensorSpec(shape=(None, 4), dtype=tf.float32, name='input_layer_4')\n",
            "Output Type:\n",
            "  TensorSpec(shape=(None, 1), dtype=tf.float32, name=None)\n",
            "Captures:\n",
            "  138244376002080: TensorSpec(shape=(), dtype=tf.resource, name=None)\n",
            "  138244376187776: TensorSpec(shape=(), dtype=tf.resource, name=None)\n",
            "  138244375793856: TensorSpec(shape=(), dtype=tf.resource, name=None)\n",
            "  138244375801072: TensorSpec(shape=(), dtype=tf.resource, name=None)\n",
            "  138244375795968: TensorSpec(shape=(), dtype=tf.resource, name=None)\n",
            "  138244375794560: TensorSpec(shape=(), dtype=tf.resource, name=None)\n",
            "  138244375798432: TensorSpec(shape=(), dtype=tf.resource, name=None)\n",
            "  138244375722144: TensorSpec(shape=(), dtype=tf.resource, name=None)\n"
          ]
        }
      ],
      "source": [
        "import tensorflow as tf\n",
        "\n",
        "# Convert the model to TFLite format\n",
        "model = tf.keras.models.load_model('insomnia_model.h5')  # Load model in .keras format\n",
        "converter = tf.lite.TFLiteConverter.from_keras_model(model)  # Convert using the updated method\n",
        "tflite_model = converter.convert()\n",
        "\n",
        "# Save the TFLite model\n",
        "with open('insomnia_model.tflite', 'wb') as f:\n",
        "    f.write(tflite_model)"
      ]
    },
    {
      "cell_type": "code",
      "execution_count": null,
      "metadata": {
        "id": "WmoIlvRLFkb5"
      },
      "outputs": [],
      "source": [
        "# !pip install tflite-support\n"
      ]
    },
    {
      "cell_type": "code",
      "execution_count": null,
      "metadata": {
        "id": "woThO6UDFsec"
      },
      "outputs": [],
      "source": [
        "# pip install protobuf==3.20.*\n"
      ]
    },
    {
      "cell_type": "code",
      "execution_count": null,
      "metadata": {
        "id": "UQjFCb3rF7tc"
      },
      "outputs": [],
      "source": [
        "# import os\n",
        "# os.environ['PROTOCOL_BUFFERS_PYTHON_IMPLEMENTATION'] = 'python'\n"
      ]
    },
    {
      "cell_type": "code",
      "execution_count": null,
      "metadata": {
        "id": "JOX32h88Fv-q"
      },
      "outputs": [],
      "source": [
        "# !pip install --upgrade tensorflow tflite-support protobuf\n"
      ]
    },
    {
      "cell_type": "code",
      "execution_count": null,
      "metadata": {
        "id": "DrzOgjraGdBT"
      },
      "outputs": [],
      "source": [
        "# !pip install --upgrade tf-keras\n"
      ]
    },
    {
      "cell_type": "code",
      "source": [
        "from csv import writer\n",
        "from tflite_support.metadata_writers import image_classifier\n",
        "from tflite_support.metadata_writers import writer_utils\n",
        "\n",
        "MODEL_PATH = \"/content/insomnia_model.tflite\"\n",
        "LABELS = [\"No Insomnia\", \"Insomnia\"]\n",
        "\n",
        "INPUT_MEAN = 0.0\n",
        "INPUT_STD = 1.0\n",
        "\n",
        "OUTPUT_MODEL_PATH = \"insomnia_model_with_metadata.tflite\"\n",
        "\n",
        "\n",
        "writer = image_classifier.MetadataWriter.create_for_inference(\n",
        "    writer_utils.load_file(MODEL_PATH),\n",
        "    input_norm_mean=[INPUT_MEAN],\n",
        "    input_norm_std=[INPUT_STD],\n",
        "    label_file_paths=[\"/content/LABELS.txt\"])\n",
        "\n",
        "with open(OUTPUT_MODEL_PATH, \"wb\") as f:\n",
        "    f.write(writer.populate())"
      ],
      "metadata": {
        "id": "LmXeHH2AnlUO"
      },
      "execution_count": null,
      "outputs": []
    },
    {
      "cell_type": "code",
      "source": [
        "import tensorflow as tf\n",
        "\n",
        "model_path = 'insomnia_model.tflite'\n",
        "interpreter = tf.lite.Interpreter(model_path=model_path)\n",
        "interpreter.allocate_tensors()\n",
        "\n",
        "input_details = interpreter.get_input_details()\n",
        "output_details = interpreter.get_output_details()\n",
        "\n",
        "print(\"Input Details:\", input_details)\n",
        "print(\"Output Details:\", output_details)"
      ],
      "metadata": {
        "id": "CgSza_RNm-nP",
        "colab": {
          "base_uri": "https://localhost:8080/"
        },
        "outputId": "9da2146b-d931-4f8e-c801-3fd453f878d9"
      },
      "execution_count": null,
      "outputs": [
        {
          "output_type": "stream",
          "name": "stdout",
          "text": [
            "Input Details: [{'name': 'serving_default_input_layer_4:0', 'index': 0, 'shape': array([1, 4], dtype=int32), 'shape_signature': array([-1,  4], dtype=int32), 'dtype': <class 'numpy.float32'>, 'quantization': (0.0, 0), 'quantization_parameters': {'scales': array([], dtype=float32), 'zero_points': array([], dtype=int32), 'quantized_dimension': 0}, 'sparsity_parameters': {}}]\n",
            "Output Details: [{'name': 'StatefulPartitionedCall_1:0', 'index': 13, 'shape': array([1, 1], dtype=int32), 'shape_signature': array([-1,  1], dtype=int32), 'dtype': <class 'numpy.float32'>, 'quantization': (0.0, 0), 'quantization_parameters': {'scales': array([], dtype=float32), 'zero_points': array([], dtype=int32), 'quantized_dimension': 0}, 'sparsity_parameters': {}}]\n"
          ]
        }
      ]
    },
    {
      "cell_type": "code",
      "source": [
        "model_json = model.to_json()\n",
        "with open(\"model.json\", \"w\") as json_file:\n",
        "    json_file.write(model_json)"
      ],
      "metadata": {
        "id": "xLSi4-oAnYTU"
      },
      "execution_count": null,
      "outputs": []
    },
    {
      "cell_type": "code",
      "source": [
        "model.save_weights(\"model.weights.h5\")\n",
        "print(\"Saved model to disk\")"
      ],
      "metadata": {
        "id": "0uEC2VwvngJT",
        "colab": {
          "base_uri": "https://localhost:8080/"
        },
        "outputId": "887d76f1-d3b2-445d-da8f-a046b1deda87"
      },
      "execution_count": null,
      "outputs": [
        {
          "output_type": "stream",
          "name": "stdout",
          "text": [
            "Saved model to disk\n"
          ]
        }
      ]
    },
    {
      "cell_type": "code",
      "source": [
        "!pip uninstall -y tflite-support\n",
        "!pip install protobuf==3.20.*\n",
        "!git clone https://github.com/tensorflow/tflite-support.git\n",
        "%cd tflite-support\n",
        "!python3 setup.py build\n",
        "!python3 setup.py install --user"
      ],
      "metadata": {
        "id": "BGs6td9iwjCl",
        "colab": {
          "base_uri": "https://localhost:8080/"
        },
        "outputId": "a80fca47-c578-45f0-9193-b40e424e744e"
      },
      "execution_count": null,
      "outputs": [
        {
          "output_type": "stream",
          "name": "stdout",
          "text": [
            "Found existing installation: tflite-support 0.4.4\n",
            "Uninstalling tflite-support-0.4.4:\n",
            "  Successfully uninstalled tflite-support-0.4.4\n",
            "Requirement already satisfied: protobuf==3.20.* in /usr/local/lib/python3.10/dist-packages (3.20.3)\n",
            "Cloning into 'tflite-support'...\n",
            "remote: Enumerating objects: 25989, done.\u001b[K\n",
            "remote: Counting objects: 100% (1112/1112), done.\u001b[K\n",
            "remote: Compressing objects: 100% (463/463), done.\u001b[K\n",
            "remote: Total 25989 (delta 622), reused 1026 (delta 588), pack-reused 24877 (from 1)\u001b[K\n",
            "Receiving objects: 100% (25989/25989), 146.66 MiB | 23.56 MiB/s, done.\n",
            "Resolving deltas: 100% (16382/16382), done.\n",
            "Updating files: 100% (1271/1271), done.\n",
            "/content/tflite-support/tflite-support\n",
            "python3: can't open file '/content/tflite-support/tflite-support/setup.py': [Errno 2] No such file or directory\n",
            "python3: can't open file '/content/tflite-support/tflite-support/setup.py': [Errno 2] No such file or directory\n"
          ]
        }
      ]
    },
    {
      "cell_type": "code",
      "source": [
        "!pip install tflite-support"
      ],
      "metadata": {
        "colab": {
          "base_uri": "https://localhost:8080/",
          "height": 373
        },
        "id": "fm70bg2taBLV",
        "outputId": "0508bd04-96d8-4960-e037-2d1bc997b40a"
      },
      "execution_count": null,
      "outputs": [
        {
          "output_type": "stream",
          "name": "stdout",
          "text": [
            "Collecting tflite-support\n",
            "  Using cached tflite_support-0.4.4-cp310-cp310-manylinux2014_x86_64.whl.metadata (2.4 kB)\n",
            "Requirement already satisfied: absl-py>=0.7.0 in /usr/local/lib/python3.10/dist-packages (from tflite-support) (1.4.0)\n",
            "Requirement already satisfied: numpy>=1.20.0 in /usr/local/lib/python3.10/dist-packages (from tflite-support) (1.26.4)\n",
            "Requirement already satisfied: flatbuffers>=2.0 in /usr/local/lib/python3.10/dist-packages (from tflite-support) (24.3.25)\n",
            "Requirement already satisfied: protobuf<4,>=3.18.0 in /usr/local/lib/python3.10/dist-packages (from tflite-support) (3.20.3)\n",
            "Requirement already satisfied: sounddevice>=0.4.4 in /usr/local/lib/python3.10/dist-packages (from tflite-support) (0.5.1)\n",
            "Requirement already satisfied: pybind11>=2.6.0 in /usr/local/lib/python3.10/dist-packages (from tflite-support) (2.13.6)\n",
            "Requirement already satisfied: CFFI>=1.0 in /usr/local/lib/python3.10/dist-packages (from sounddevice>=0.4.4->tflite-support) (1.17.1)\n",
            "Requirement already satisfied: pycparser in /usr/local/lib/python3.10/dist-packages (from CFFI>=1.0->sounddevice>=0.4.4->tflite-support) (2.22)\n",
            "Using cached tflite_support-0.4.4-cp310-cp310-manylinux2014_x86_64.whl (60.8 MB)\n",
            "Installing collected packages: tflite-support\n",
            "Successfully installed tflite-support-0.4.4\n"
          ]
        },
        {
          "output_type": "display_data",
          "data": {
            "application/vnd.colab-display-data+json": {
              "pip_warning": {
                "packages": [
                  "tensorflow_lite_support"
                ]
              },
              "id": "615b3eb8126d462a988075d932c590f2"
            }
          },
          "metadata": {}
        }
      ]
    }
  ],
  "metadata": {
    "colab": {
      "provenance": [],
      "include_colab_link": true
    },
    "kernelspec": {
      "display_name": "Python 3",
      "name": "python3"
    },
    "language_info": {
      "name": "python"
    }
  },
  "nbformat": 4,
  "nbformat_minor": 0
}